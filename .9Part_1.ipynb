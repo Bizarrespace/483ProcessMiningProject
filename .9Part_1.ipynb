{
  "cells": [
    {
      "cell_type": "code",
      "execution_count": 1,
      "metadata": {
        "colab": {
          "base_uri": "https://localhost:8080/"
        },
        "id": "uJOZePuIQveK",
        "outputId": "1d92c105-66e2-42ba-ccd8-74a9e9883f74"
      },
      "outputs": [
        {
          "output_type": "stream",
          "name": "stdout",
          "text": [
            "Drive already mounted at /content/drive; to attempt to forcibly remount, call drive.mount(\"/content/drive\", force_remount=True).\n"
          ]
        }
      ],
      "source": [
        "from google.colab import drive\n",
        "drive.mount('/content/drive')"
      ]
    },
    {
      "cell_type": "code",
      "execution_count": 2,
      "metadata": {
        "colab": {
          "base_uri": "https://localhost:8080/"
        },
        "id": "0cTQxdn_RRE3",
        "outputId": "cd6f9820-1a6c-4768-ba94-6f9fd3b3b8e9"
      },
      "outputs": [
        {
          "output_type": "stream",
          "name": "stdout",
          "text": [
            "Requirement already satisfied: pm4py in /usr/local/lib/python3.10/dist-packages (2.7.5.2)\n",
            "Requirement already satisfied: deprecation in /usr/local/lib/python3.10/dist-packages (from pm4py) (2.1.0)\n",
            "Requirement already satisfied: graphviz in /usr/local/lib/python3.10/dist-packages (from pm4py) (0.20.1)\n",
            "Requirement already satisfied: intervaltree in /usr/local/lib/python3.10/dist-packages (from pm4py) (3.1.0)\n",
            "Requirement already satisfied: lxml in /usr/local/lib/python3.10/dist-packages (from pm4py) (4.9.3)\n",
            "Requirement already satisfied: matplotlib in /usr/local/lib/python3.10/dist-packages (from pm4py) (3.7.1)\n",
            "Requirement already satisfied: networkx in /usr/local/lib/python3.10/dist-packages (from pm4py) (3.1)\n",
            "Requirement already satisfied: numpy in /usr/local/lib/python3.10/dist-packages (from pm4py) (1.23.5)\n",
            "Requirement already satisfied: pandas in /usr/local/lib/python3.10/dist-packages (from pm4py) (1.5.3)\n",
            "Requirement already satisfied: pydotplus in /usr/local/lib/python3.10/dist-packages (from pm4py) (2.0.2)\n",
            "Requirement already satisfied: pytz in /usr/local/lib/python3.10/dist-packages (from pm4py) (2023.3.post1)\n",
            "Requirement already satisfied: scipy in /usr/local/lib/python3.10/dist-packages (from pm4py) (1.11.2)\n",
            "Requirement already satisfied: stringdist in /usr/local/lib/python3.10/dist-packages (from pm4py) (1.0.9)\n",
            "Requirement already satisfied: tqdm in /usr/local/lib/python3.10/dist-packages (from pm4py) (4.66.1)\n",
            "Requirement already satisfied: cvxopt in /usr/local/lib/python3.10/dist-packages (from pm4py) (1.3.2)\n",
            "Requirement already satisfied: packaging in /usr/local/lib/python3.10/dist-packages (from deprecation->pm4py) (23.1)\n",
            "Requirement already satisfied: sortedcontainers<3.0,>=2.0 in /usr/local/lib/python3.10/dist-packages (from intervaltree->pm4py) (2.4.0)\n",
            "Requirement already satisfied: contourpy>=1.0.1 in /usr/local/lib/python3.10/dist-packages (from matplotlib->pm4py) (1.1.0)\n",
            "Requirement already satisfied: cycler>=0.10 in /usr/local/lib/python3.10/dist-packages (from matplotlib->pm4py) (0.11.0)\n",
            "Requirement already satisfied: fonttools>=4.22.0 in /usr/local/lib/python3.10/dist-packages (from matplotlib->pm4py) (4.42.1)\n",
            "Requirement already satisfied: kiwisolver>=1.0.1 in /usr/local/lib/python3.10/dist-packages (from matplotlib->pm4py) (1.4.5)\n",
            "Requirement already satisfied: pillow>=6.2.0 in /usr/local/lib/python3.10/dist-packages (from matplotlib->pm4py) (9.4.0)\n",
            "Requirement already satisfied: pyparsing>=2.3.1 in /usr/local/lib/python3.10/dist-packages (from matplotlib->pm4py) (3.1.1)\n",
            "Requirement already satisfied: python-dateutil>=2.7 in /usr/local/lib/python3.10/dist-packages (from matplotlib->pm4py) (2.8.2)\n",
            "Requirement already satisfied: six>=1.5 in /usr/local/lib/python3.10/dist-packages (from python-dateutil>=2.7->matplotlib->pm4py) (1.16.0)\n",
            "Reading package lists... Done\n",
            "Building dependency tree... Done\n",
            "Reading state information... Done\n",
            "graphviz is already the newest version (2.42.2-6).\n",
            "0 upgraded, 0 newly installed, 0 to remove and 16 not upgraded.\n",
            "Requirement already satisfied: graphviz in /usr/local/lib/python3.10/dist-packages (0.20.1)\n"
          ]
        }
      ],
      "source": [
        "!pip install -U pm4py\n",
        "!apt install -y graphviz\n",
        "!pip install graphviz"
      ]
    },
    {
      "cell_type": "markdown",
      "metadata": {
        "id": "ncu8iEuXUfih"
      },
      "source": [
        "Reading CSV file"
      ]
    },
    {
      "cell_type": "code",
      "execution_count": 3,
      "metadata": {
        "id": "48JqfhDeRbve"
      },
      "outputs": [],
      "source": [
        "import pandas as pd"
      ]
    },
    {
      "cell_type": "code",
      "execution_count": 4,
      "metadata": {
        "id": "aMNekf52Rh2W"
      },
      "outputs": [],
      "source": [
        "df = pd.read_csv('/content/drive/My Drive/Colab Notebooks/process mining project for USC students/heart_log_val_0.csv')"
      ]
    },
    {
      "cell_type": "code",
      "execution_count": 5,
      "metadata": {
        "id": "auwllyCxRtSF",
        "colab": {
          "base_uri": "https://localhost:8080/",
          "height": 400
        },
        "outputId": "2d11c37d-d53a-46d9-8916-1ed338405b07"
      },
      "outputs": [
        {
          "output_type": "execute_result",
          "data": {
            "text/plain": [
              "        type   concept:name  value             time:timestamp  \\\n",
              "0        lab  Sodium_mean_2    2.0  2166-07-23 17:03:00+00:00   \n",
              "1        lab   Sodium_std_0    0.0  2166-07-26 10:30:00+00:00   \n",
              "2  admission      unplanned    NaN  2166-08-13 03:32:00+00:00   \n",
              "3  admission       Medicare    NaN  2166-08-13 03:32:00+00:00   \n",
              "4        lab  Sodium_mean_2    2.0  2166-08-13 03:32:10+00:00   \n",
              "\n",
              "   case:concept:name case:gender  case:age  case:charlson  case:elixhauser  \\\n",
              "0                283           M        76              1               36   \n",
              "1                283           M        76              1               36   \n",
              "2                283           M        76              1               36   \n",
              "3                283           M        76              1               36   \n",
              "4                283           M        76              1               36   \n",
              "\n",
              "                    case:dob          case:dod case:ethnicity  case:label  \\\n",
              "0  2090-09-05 05:30:00+00:00  09-12-2166 00:00          WHITE       False   \n",
              "1  2090-09-05 05:30:00+00:00  09-12-2166 00:00          WHITE       False   \n",
              "2  2090-09-05 05:30:00+00:00  09-12-2166 00:00          WHITE       False   \n",
              "3  2090-09-05 05:30:00+00:00  09-12-2166 00:00          WHITE       False   \n",
              "4  2090-09-05 05:30:00+00:00  09-12-2166 00:00          WHITE       False   \n",
              "\n",
              "   admission_id PREDICT  \n",
              "0           NaN     NaN  \n",
              "1           NaN     NaN  \n",
              "2      109185.0     NaN  \n",
              "3      109185.0     NaN  \n",
              "4           NaN     NaN  "
            ],
            "text/html": [
              "\n",
              "  <div id=\"df-23e7cce0-ba3f-4c85-9f13-545d87b6adeb\" class=\"colab-df-container\">\n",
              "    <div>\n",
              "<style scoped>\n",
              "    .dataframe tbody tr th:only-of-type {\n",
              "        vertical-align: middle;\n",
              "    }\n",
              "\n",
              "    .dataframe tbody tr th {\n",
              "        vertical-align: top;\n",
              "    }\n",
              "\n",
              "    .dataframe thead th {\n",
              "        text-align: right;\n",
              "    }\n",
              "</style>\n",
              "<table border=\"1\" class=\"dataframe\">\n",
              "  <thead>\n",
              "    <tr style=\"text-align: right;\">\n",
              "      <th></th>\n",
              "      <th>type</th>\n",
              "      <th>concept:name</th>\n",
              "      <th>value</th>\n",
              "      <th>time:timestamp</th>\n",
              "      <th>case:concept:name</th>\n",
              "      <th>case:gender</th>\n",
              "      <th>case:age</th>\n",
              "      <th>case:charlson</th>\n",
              "      <th>case:elixhauser</th>\n",
              "      <th>case:dob</th>\n",
              "      <th>case:dod</th>\n",
              "      <th>case:ethnicity</th>\n",
              "      <th>case:label</th>\n",
              "      <th>admission_id</th>\n",
              "      <th>PREDICT</th>\n",
              "    </tr>\n",
              "  </thead>\n",
              "  <tbody>\n",
              "    <tr>\n",
              "      <th>0</th>\n",
              "      <td>lab</td>\n",
              "      <td>Sodium_mean_2</td>\n",
              "      <td>2.0</td>\n",
              "      <td>2166-07-23 17:03:00+00:00</td>\n",
              "      <td>283</td>\n",
              "      <td>M</td>\n",
              "      <td>76</td>\n",
              "      <td>1</td>\n",
              "      <td>36</td>\n",
              "      <td>2090-09-05 05:30:00+00:00</td>\n",
              "      <td>09-12-2166 00:00</td>\n",
              "      <td>WHITE</td>\n",
              "      <td>False</td>\n",
              "      <td>NaN</td>\n",
              "      <td>NaN</td>\n",
              "    </tr>\n",
              "    <tr>\n",
              "      <th>1</th>\n",
              "      <td>lab</td>\n",
              "      <td>Sodium_std_0</td>\n",
              "      <td>0.0</td>\n",
              "      <td>2166-07-26 10:30:00+00:00</td>\n",
              "      <td>283</td>\n",
              "      <td>M</td>\n",
              "      <td>76</td>\n",
              "      <td>1</td>\n",
              "      <td>36</td>\n",
              "      <td>2090-09-05 05:30:00+00:00</td>\n",
              "      <td>09-12-2166 00:00</td>\n",
              "      <td>WHITE</td>\n",
              "      <td>False</td>\n",
              "      <td>NaN</td>\n",
              "      <td>NaN</td>\n",
              "    </tr>\n",
              "    <tr>\n",
              "      <th>2</th>\n",
              "      <td>admission</td>\n",
              "      <td>unplanned</td>\n",
              "      <td>NaN</td>\n",
              "      <td>2166-08-13 03:32:00+00:00</td>\n",
              "      <td>283</td>\n",
              "      <td>M</td>\n",
              "      <td>76</td>\n",
              "      <td>1</td>\n",
              "      <td>36</td>\n",
              "      <td>2090-09-05 05:30:00+00:00</td>\n",
              "      <td>09-12-2166 00:00</td>\n",
              "      <td>WHITE</td>\n",
              "      <td>False</td>\n",
              "      <td>109185.0</td>\n",
              "      <td>NaN</td>\n",
              "    </tr>\n",
              "    <tr>\n",
              "      <th>3</th>\n",
              "      <td>admission</td>\n",
              "      <td>Medicare</td>\n",
              "      <td>NaN</td>\n",
              "      <td>2166-08-13 03:32:00+00:00</td>\n",
              "      <td>283</td>\n",
              "      <td>M</td>\n",
              "      <td>76</td>\n",
              "      <td>1</td>\n",
              "      <td>36</td>\n",
              "      <td>2090-09-05 05:30:00+00:00</td>\n",
              "      <td>09-12-2166 00:00</td>\n",
              "      <td>WHITE</td>\n",
              "      <td>False</td>\n",
              "      <td>109185.0</td>\n",
              "      <td>NaN</td>\n",
              "    </tr>\n",
              "    <tr>\n",
              "      <th>4</th>\n",
              "      <td>lab</td>\n",
              "      <td>Sodium_mean_2</td>\n",
              "      <td>2.0</td>\n",
              "      <td>2166-08-13 03:32:10+00:00</td>\n",
              "      <td>283</td>\n",
              "      <td>M</td>\n",
              "      <td>76</td>\n",
              "      <td>1</td>\n",
              "      <td>36</td>\n",
              "      <td>2090-09-05 05:30:00+00:00</td>\n",
              "      <td>09-12-2166 00:00</td>\n",
              "      <td>WHITE</td>\n",
              "      <td>False</td>\n",
              "      <td>NaN</td>\n",
              "      <td>NaN</td>\n",
              "    </tr>\n",
              "  </tbody>\n",
              "</table>\n",
              "</div>\n",
              "    <div class=\"colab-df-buttons\">\n",
              "\n",
              "  <div class=\"colab-df-container\">\n",
              "    <button class=\"colab-df-convert\" onclick=\"convertToInteractive('df-23e7cce0-ba3f-4c85-9f13-545d87b6adeb')\"\n",
              "            title=\"Convert this dataframe to an interactive table.\"\n",
              "            style=\"display:none;\">\n",
              "\n",
              "  <svg xmlns=\"http://www.w3.org/2000/svg\" height=\"24px\" viewBox=\"0 -960 960 960\">\n",
              "    <path d=\"M120-120v-720h720v720H120Zm60-500h600v-160H180v160Zm220 220h160v-160H400v160Zm0 220h160v-160H400v160ZM180-400h160v-160H180v160Zm440 0h160v-160H620v160ZM180-180h160v-160H180v160Zm440 0h160v-160H620v160Z\"/>\n",
              "  </svg>\n",
              "    </button>\n",
              "\n",
              "  <style>\n",
              "    .colab-df-container {\n",
              "      display:flex;\n",
              "      gap: 12px;\n",
              "    }\n",
              "\n",
              "    .colab-df-convert {\n",
              "      background-color: #E8F0FE;\n",
              "      border: none;\n",
              "      border-radius: 50%;\n",
              "      cursor: pointer;\n",
              "      display: none;\n",
              "      fill: #1967D2;\n",
              "      height: 32px;\n",
              "      padding: 0 0 0 0;\n",
              "      width: 32px;\n",
              "    }\n",
              "\n",
              "    .colab-df-convert:hover {\n",
              "      background-color: #E2EBFA;\n",
              "      box-shadow: 0px 1px 2px rgba(60, 64, 67, 0.3), 0px 1px 3px 1px rgba(60, 64, 67, 0.15);\n",
              "      fill: #174EA6;\n",
              "    }\n",
              "\n",
              "    .colab-df-buttons div {\n",
              "      margin-bottom: 4px;\n",
              "    }\n",
              "\n",
              "    [theme=dark] .colab-df-convert {\n",
              "      background-color: #3B4455;\n",
              "      fill: #D2E3FC;\n",
              "    }\n",
              "\n",
              "    [theme=dark] .colab-df-convert:hover {\n",
              "      background-color: #434B5C;\n",
              "      box-shadow: 0px 1px 3px 1px rgba(0, 0, 0, 0.15);\n",
              "      filter: drop-shadow(0px 1px 2px rgba(0, 0, 0, 0.3));\n",
              "      fill: #FFFFFF;\n",
              "    }\n",
              "  </style>\n",
              "\n",
              "    <script>\n",
              "      const buttonEl =\n",
              "        document.querySelector('#df-23e7cce0-ba3f-4c85-9f13-545d87b6adeb button.colab-df-convert');\n",
              "      buttonEl.style.display =\n",
              "        google.colab.kernel.accessAllowed ? 'block' : 'none';\n",
              "\n",
              "      async function convertToInteractive(key) {\n",
              "        const element = document.querySelector('#df-23e7cce0-ba3f-4c85-9f13-545d87b6adeb');\n",
              "        const dataTable =\n",
              "          await google.colab.kernel.invokeFunction('convertToInteractive',\n",
              "                                                    [key], {});\n",
              "        if (!dataTable) return;\n",
              "\n",
              "        const docLinkHtml = 'Like what you see? Visit the ' +\n",
              "          '<a target=\"_blank\" href=https://colab.research.google.com/notebooks/data_table.ipynb>data table notebook</a>'\n",
              "          + ' to learn more about interactive tables.';\n",
              "        element.innerHTML = '';\n",
              "        dataTable['output_type'] = 'display_data';\n",
              "        await google.colab.output.renderOutput(dataTable, element);\n",
              "        const docLink = document.createElement('div');\n",
              "        docLink.innerHTML = docLinkHtml;\n",
              "        element.appendChild(docLink);\n",
              "      }\n",
              "    </script>\n",
              "  </div>\n",
              "\n",
              "\n",
              "<div id=\"df-d1ccb230-bbb1-415e-bdbd-484bf4b83a28\">\n",
              "  <button class=\"colab-df-quickchart\" onclick=\"quickchart('df-d1ccb230-bbb1-415e-bdbd-484bf4b83a28')\"\n",
              "            title=\"Suggest charts.\"\n",
              "            style=\"display:none;\">\n",
              "\n",
              "<svg xmlns=\"http://www.w3.org/2000/svg\" height=\"24px\"viewBox=\"0 0 24 24\"\n",
              "     width=\"24px\">\n",
              "    <g>\n",
              "        <path d=\"M19 3H5c-1.1 0-2 .9-2 2v14c0 1.1.9 2 2 2h14c1.1 0 2-.9 2-2V5c0-1.1-.9-2-2-2zM9 17H7v-7h2v7zm4 0h-2V7h2v10zm4 0h-2v-4h2v4z\"/>\n",
              "    </g>\n",
              "</svg>\n",
              "  </button>\n",
              "\n",
              "<style>\n",
              "  .colab-df-quickchart {\n",
              "      --bg-color: #E8F0FE;\n",
              "      --fill-color: #1967D2;\n",
              "      --hover-bg-color: #E2EBFA;\n",
              "      --hover-fill-color: #174EA6;\n",
              "      --disabled-fill-color: #AAA;\n",
              "      --disabled-bg-color: #DDD;\n",
              "  }\n",
              "\n",
              "  [theme=dark] .colab-df-quickchart {\n",
              "      --bg-color: #3B4455;\n",
              "      --fill-color: #D2E3FC;\n",
              "      --hover-bg-color: #434B5C;\n",
              "      --hover-fill-color: #FFFFFF;\n",
              "      --disabled-bg-color: #3B4455;\n",
              "      --disabled-fill-color: #666;\n",
              "  }\n",
              "\n",
              "  .colab-df-quickchart {\n",
              "    background-color: var(--bg-color);\n",
              "    border: none;\n",
              "    border-radius: 50%;\n",
              "    cursor: pointer;\n",
              "    display: none;\n",
              "    fill: var(--fill-color);\n",
              "    height: 32px;\n",
              "    padding: 0;\n",
              "    width: 32px;\n",
              "  }\n",
              "\n",
              "  .colab-df-quickchart:hover {\n",
              "    background-color: var(--hover-bg-color);\n",
              "    box-shadow: 0 1px 2px rgba(60, 64, 67, 0.3), 0 1px 3px 1px rgba(60, 64, 67, 0.15);\n",
              "    fill: var(--button-hover-fill-color);\n",
              "  }\n",
              "\n",
              "  .colab-df-quickchart-complete:disabled,\n",
              "  .colab-df-quickchart-complete:disabled:hover {\n",
              "    background-color: var(--disabled-bg-color);\n",
              "    fill: var(--disabled-fill-color);\n",
              "    box-shadow: none;\n",
              "  }\n",
              "\n",
              "  .colab-df-spinner {\n",
              "    border: 2px solid var(--fill-color);\n",
              "    border-color: transparent;\n",
              "    border-bottom-color: var(--fill-color);\n",
              "    animation:\n",
              "      spin 1s steps(1) infinite;\n",
              "  }\n",
              "\n",
              "  @keyframes spin {\n",
              "    0% {\n",
              "      border-color: transparent;\n",
              "      border-bottom-color: var(--fill-color);\n",
              "      border-left-color: var(--fill-color);\n",
              "    }\n",
              "    20% {\n",
              "      border-color: transparent;\n",
              "      border-left-color: var(--fill-color);\n",
              "      border-top-color: var(--fill-color);\n",
              "    }\n",
              "    30% {\n",
              "      border-color: transparent;\n",
              "      border-left-color: var(--fill-color);\n",
              "      border-top-color: var(--fill-color);\n",
              "      border-right-color: var(--fill-color);\n",
              "    }\n",
              "    40% {\n",
              "      border-color: transparent;\n",
              "      border-right-color: var(--fill-color);\n",
              "      border-top-color: var(--fill-color);\n",
              "    }\n",
              "    60% {\n",
              "      border-color: transparent;\n",
              "      border-right-color: var(--fill-color);\n",
              "    }\n",
              "    80% {\n",
              "      border-color: transparent;\n",
              "      border-right-color: var(--fill-color);\n",
              "      border-bottom-color: var(--fill-color);\n",
              "    }\n",
              "    90% {\n",
              "      border-color: transparent;\n",
              "      border-bottom-color: var(--fill-color);\n",
              "    }\n",
              "  }\n",
              "</style>\n",
              "\n",
              "  <script>\n",
              "    async function quickchart(key) {\n",
              "      const quickchartButtonEl =\n",
              "        document.querySelector('#' + key + ' button');\n",
              "      quickchartButtonEl.disabled = true;  // To prevent multiple clicks.\n",
              "      quickchartButtonEl.classList.add('colab-df-spinner');\n",
              "      try {\n",
              "        const charts = await google.colab.kernel.invokeFunction(\n",
              "            'suggestCharts', [key], {});\n",
              "      } catch (error) {\n",
              "        console.error('Error during call to suggestCharts:', error);\n",
              "      }\n",
              "      quickchartButtonEl.classList.remove('colab-df-spinner');\n",
              "      quickchartButtonEl.classList.add('colab-df-quickchart-complete');\n",
              "    }\n",
              "    (() => {\n",
              "      let quickchartButtonEl =\n",
              "        document.querySelector('#df-d1ccb230-bbb1-415e-bdbd-484bf4b83a28 button');\n",
              "      quickchartButtonEl.style.display =\n",
              "        google.colab.kernel.accessAllowed ? 'block' : 'none';\n",
              "    })();\n",
              "  </script>\n",
              "</div>\n",
              "    </div>\n",
              "  </div>\n"
            ]
          },
          "metadata": {},
          "execution_count": 5
        }
      ],
      "source": [
        "df.head()"
      ]
    },
    {
      "cell_type": "code",
      "execution_count": 6,
      "metadata": {
        "colab": {
          "base_uri": "https://localhost:8080/"
        },
        "id": "JvbajRX5RvvN",
        "outputId": "02bd49d8-c4f9-422f-d41f-6c2d430c0d37"
      },
      "outputs": [
        {
          "output_type": "stream",
          "name": "stdout",
          "text": [
            "['lab' 'admission' 'artificial' 'elix_comorb']\n"
          ]
        }
      ],
      "source": [
        "event_type = df['type'].unique()\n",
        "print(event_type)"
      ]
    },
    {
      "cell_type": "code",
      "execution_count": 7,
      "metadata": {
        "id": "07Sd-wPhR13N"
      },
      "outputs": [],
      "source": [
        "event = df['concept:name'].unique()"
      ]
    },
    {
      "cell_type": "code",
      "execution_count": 8,
      "metadata": {
        "colab": {
          "base_uri": "https://localhost:8080/"
        },
        "id": "T2VAuOdfR4zN",
        "outputId": "2061237d-7c76-4aba-9747-1446011f1fc0"
      },
      "outputs": [
        {
          "output_type": "stream",
          "name": "stdout",
          "text": [
            "Sodium_mean_2\n",
            "Sodium_std_0\n",
            "unplanned\n",
            "Medicare\n",
            "Urea Nitrogen_mean_2\n",
            "Sodium_std_2\n",
            "Urea Nitrogen_std_2\n",
            "event_0\n",
            "event_2\n",
            "event_3\n",
            "event_6\n",
            "event_9\n",
            "event_11\n",
            "event_14\n",
            "event_15\n",
            "event_16\n",
            "event_19\n",
            "event_20\n",
            "event_26\n",
            "event_29\n",
            "CHF\n",
            "OND\n",
            "COAG\n",
            "FED\n",
            "Urea Nitrogen_mean_1\n",
            "Urea Nitrogen_std_1\n",
            "Private\n",
            "Sodium_mean_3\n",
            "Urea Nitrogen_mean_3\n",
            "CARIT\n",
            "VALV\n",
            "PARA\n",
            "Urea Nitrogen_std_4\n",
            "Medicaid\n",
            "PCD\n",
            "HYPUNC\n",
            "CPD\n",
            "HYPOTHY\n",
            "Sodium_std_1\n",
            "NTproBNP_mean_9\n",
            "NTproBNP_std_1\n",
            "Sodium_std_3\n",
            "Urea Nitrogen_std_3\n",
            "Sodium_mean_1\n",
            "DIABUNC\n",
            "LD\n",
            "WLOSS\n",
            "ALCOHOL\n",
            "PVD\n",
            "NTproBNP_std_0\n",
            "HYPC\n",
            "RF\n",
            "DEPRE\n",
            "planned\n",
            "Creatinine, Serum_mean_0\n",
            "Creatinine, Serum_std_0\n",
            "DRUG\n",
            "BLANE\n",
            "SOLIDTUM\n",
            "NTproBNP_std_6\n",
            "OBES\n",
            "DIABC\n",
            "Urea Nitrogen_mean_0\n",
            "PUD\n",
            "METACANC\n",
            "DANE\n",
            "Sodium_mean_4\n",
            "Sodium_std_4\n",
            "LYMPH\n",
            "Urea Nitrogen_mean_4\n",
            "Urea Nitrogen_std_0\n",
            "PSYCHO\n",
            "RHEUMD\n"
          ]
        }
      ],
      "source": [
        "for i in event:\n",
        "    print(i)"
      ]
    },
    {
      "cell_type": "markdown",
      "metadata": {
        "id": "FAeaHbtMUUUG"
      },
      "source": [
        " Converting csv file to xes file"
      ]
    },
    {
      "cell_type": "code",
      "execution_count": 9,
      "metadata": {
        "id": "f31X9IDgSAVf"
      },
      "outputs": [],
      "source": [
        "from pm4py.objects.log.exporter.xes import exporter as xes_exporter"
      ]
    },
    {
      "cell_type": "code",
      "execution_count": 10,
      "metadata": {
        "id": "JH6wncFASECt",
        "colab": {
          "base_uri": "https://localhost:8080/",
          "height": 49,
          "referenced_widgets": [
            "e827578f60ee4b19b7ac155775de7ba8",
            "e3659716a4c042ee9e6f89701d679bc7",
            "3695833b22334116ab71b5adc7bcaf30",
            "2d67a47acabb45cda952b556cc1c4bcb",
            "a133cfb7adcb4706b23e9462b66e0211",
            "8322c89641cd49ee8f1c82b966bb231b",
            "8ce71b66df6a4ad491d0616f47213c2d",
            "bed17f52433b4eb1a174a6b16b171f68",
            "dcea8060b8b14215816866d33ced6774",
            "e7e947127d38424994da8d2497e0f26c",
            "4be14b696bea44df95d5afb7c5680428"
          ]
        },
        "outputId": "c876dc41-0ec6-4cd4-bf13-8165da11850a"
      },
      "outputs": [
        {
          "output_type": "display_data",
          "data": {
            "text/plain": [
              "exporting log, completed traces ::   0%|          | 0/78 [00:00<?, ?it/s]"
            ],
            "application/vnd.jupyter.widget-view+json": {
              "version_major": 2,
              "version_minor": 0,
              "model_id": "e827578f60ee4b19b7ac155775de7ba8"
            }
          },
          "metadata": {}
        }
      ],
      "source": [
        "xes_exporter.apply(df, '/content/drive/My Drive/Colab Notebooks/process mining project for USC students/test.xes')"
      ]
    },
    {
      "cell_type": "markdown",
      "metadata": {
        "id": "CHLI-jgeTweQ"
      },
      "source": [
        "Inductive miner"
      ]
    },
    {
      "cell_type": "code",
      "execution_count": 11,
      "metadata": {
        "id": "IZBk_znQSINd"
      },
      "outputs": [],
      "source": [
        "import pm4py\n",
        "from pm4py.objects.log.importer.xes import importer as xes_importer\n",
        "from pm4py.algo.discovery.inductive import algorithm as inductive_miner"
      ]
    },
    {
      "cell_type": "code",
      "execution_count": 12,
      "metadata": {
        "id": "7NbF4qJiSRoF",
        "colab": {
          "base_uri": "https://localhost:8080/",
          "height": 191,
          "referenced_widgets": [
            "1e3050b9008f44e7b4c25b4e0b185215",
            "5a7a810fc0a942dc8f5ab7698fcff531",
            "f0c64ac425064e6ab3e85acc0b5bf919",
            "96afe665459848af9f2e0ec88f813880",
            "a039c122b58b4bbc9aa189d4b7b5ba99",
            "12f80b80e27c4b7981ac40e4f5486d47",
            "912a6ffe2e044913a02e3fdb4438ef4f",
            "a2fbf3df44a549f68e060fe688d87f13",
            "99161ec89546473fb0495926c75205dc",
            "275c4634e8e44ca8bc6a2c98be523450",
            "cec1d82c7b864a2987aa2d19668354af"
          ]
        },
        "outputId": "69fdd03b-aec9-4ca8-a441-feb568eca7f5"
      },
      "outputs": [
        {
          "output_type": "stream",
          "name": "stderr",
          "text": [
            "/usr/local/lib/python3.10/dist-packages/pm4py/util/dt_parsing/parser.py:76: UserWarning: ISO8601 strings are not fully supported with strpfromiso for Python versions below 3.11\n",
            "  warnings.warn(\n"
          ]
        },
        {
          "output_type": "display_data",
          "data": {
            "text/plain": [
              "parsing log, completed traces ::   0%|          | 0/78 [00:00<?, ?it/s]"
            ],
            "application/vnd.jupyter.widget-view+json": {
              "version_major": 2,
              "version_minor": 0,
              "model_id": "1e3050b9008f44e7b4c25b4e0b185215"
            }
          },
          "metadata": {}
        },
        {
          "output_type": "stream",
          "name": "stderr",
          "text": [
            "/usr/local/lib/python3.10/dist-packages/pm4py/utils.py:494: UserWarning: the EventLog class has been deprecated and will be removed in a future release.\n",
            "  warnings.warn(\"the EventLog class has been deprecated and will be removed in a future release.\")\n"
          ]
        },
        {
          "output_type": "stream",
          "name": "stdout",
          "text": [
            "0.9\n",
            "PN Places: 41\n",
            "PN Transitions: 55\n"
          ]
        }
      ],
      "source": [
        "log = xes_importer.apply('/content/drive/My Drive/Colab Notebooks/process mining project for USC students/test.xes')\n",
        "thrd = 0.9\n",
        "net, initial_marking, final_marking = pm4py.discover_petri_net_inductive(log, noise_threshold = thrd)\n",
        "### Report Petri-net properties ###\n",
        "print(float(thrd))\n",
        "print(\"PN Places:\", len(net.places))\n",
        "print(\"PN Transitions:\", len(net.transitions))"
      ]
    },
    {
      "cell_type": "markdown",
      "metadata": {
        "id": "zvR4VNx8Td-m"
      },
      "source": [
        "Exporting PNML"
      ]
    },
    {
      "cell_type": "code",
      "execution_count": 13,
      "metadata": {
        "id": "sLwYwWUZSSz-"
      },
      "outputs": [],
      "source": [
        "pm4py.write_pnml(net, initial_marking, final_marking, '/content/drive/My Drive/Colab Notebooks/process mining project for USC students/test.pnml')"
      ]
    },
    {
      "cell_type": "code",
      "execution_count": 14,
      "metadata": {
        "id": "j6RuNqczSeSO"
      },
      "outputs": [],
      "source": [
        "net, im, fm = pm4py.read_pnml(\"/content/drive/My Drive/Colab Notebooks/process mining project for USC students/test.pnml\")"
      ]
    },
    {
      "cell_type": "code",
      "execution_count": 15,
      "metadata": {
        "colab": {
          "base_uri": "https://localhost:8080/"
        },
        "id": "7QwaKRV5oifE",
        "outputId": "a015d811-1ae8-47f5-d8c9-68ab9716dc60"
      },
      "outputs": [
        {
          "output_type": "stream",
          "name": "stdout",
          "text": [
            "PN Places: 41\n",
            "\n",
            "PN Places: [p_4, p_15, p_11, p_47, p_39, p_43, p_34, p_5, p_32, source, p_17, p_19, p_35, p_46, p_38, p_42, p_27, sink, p_23, p_12, p_53, p_33, p_37, p_30, p_41, p_45, p_52, p_22, p_49, p_14, p_18, p_31, p_28, p_6, p_40, p_44, p_50, p_16, p_36, p_8, p_7]\n",
            "\n",
            "PN Transitions: 55\n",
            "\n",
            "PN Transitions: [(skip_13, None), (aa71918c-6dee-4163-8f64-5f464f1536c3, 'event_2'), (skip_2, None), (skip_28, None), (d27ebda3-6c5e-43de-91c8-e74aad4c8f5a, 'Urea Nitrogen_mean_1'), (skip_17, None), (f1177681-7648-4758-8bc8-0552e767b36a, 'event_11'), (dc7dda7e-dfc3-4cdf-b117-8f7df07f79e2, 'planned'), (663c612b-7e81-449a-9045-594878c1b69f, 'event_15'), (7cc9ff47-82fc-446f-a596-4e6543b35b6a, 'Sodium_mean_1'), (skip_24, None), (d3bef2f8-d8de-4bf8-b5a7-f62ee429ea43, 'NTproBNP_mean_9'), (da1e3af9-5850-4afa-8c5b-65c661449e0b, 'COAG'), (skip_27, None), (tauSplit_9, None), (cf65eb0d-9cdc-41ec-98c0-1404c281c9c3, 'event_0'), (c37d2079-2454-4590-ba32-e28869a6417b, 'event_9'), (23d7fa46-4ec0-4693-9f8e-4b64a0e098d3, 'event_29'), (tauSplit_3, None), (a43d45cd-7223-427d-82f3-d9a0bbc205a4, 'NTproBNP_std_0'), (960b1c3b-9634-4f48-8ea8-f1ddf5d81363, 'Urea Nitrogen_mean_2'), (d5625ba1-5486-4692-8cc6-565385dd019a, 'event_14'), (skip_30, None), (96f13f47-03dc-4c9d-ae00-31f9fdee1406, 'Private'), (e0441e5b-f5d5-4546-99de-7e9958fa53eb, 'event_26'), (5d6bf709-eca3-44e1-be62-ac2abdb458b9, 'event_19'), (b16fc4ca-b7c4-4ad7-8a31-0c62865fc9e3, 'Medicare'), (b6621e9b-c0ce-4c65-9373-2ecad6f8d049, 'event_6'), (47a2ee19-67ac-47c1-aeed-144007e6c24a, 'Sodium_std_3'), (skip_25, None), (skip_7, None), (203a9837-cc13-4178-a397-851b48a32f5d, 'Urea Nitrogen_std_0'), (9529d99a-96a3-470e-804c-c3a52f6b9aa0, 'RF'), (init_loop_20, None), (tauJoin_4, None), (dd379bed-909e-4113-92c2-ffea735c3d2d, 'Urea Nitrogen_std_2'), (cf64e7a3-6978-4380-8418-3a4346ae52fb, 'unplanned'), (4540f3ed-132a-400c-99e0-90381ba91630, 'Sodium_mean_3'), (skip_29, None), (e8f48ff7-72f7-4fe8-b461-6ff4c4df512f, 'Sodium_std_0'), (skip_19, None), (74f3336e-80d8-44aa-a357-2f28f200f144, 'Urea Nitrogen_std_1'), (c7ea1992-cded-4827-a9ac-0b06456ce9cb, 'Urea Nitrogen_std_3'), (6dc6d8ae-dd79-4a39-9fbe-d3f4fc783ac4, 'event_3'), (tauJoin_10, None), (1bda7e83-8492-4f04-8188-744b041bfea0, 'Sodium_std_2'), (882f2c63-94d8-41a8-96a0-21e792c03c2b, 'Sodium_std_1'), (skip_26, None), (3ec8ff25-427a-45d2-b498-6596630a19ef, 'NTproBNP_std_1'), (ce513592-0586-4340-a06b-3784fd6d5336, 'Medicaid'), (6d39e8ff-b450-4e29-904e-6a1d784dd98e, 'Urea Nitrogen_mean_3'), (8e045509-df73-4c85-a6ba-0700080756a8, 'event_16'), (36e78023-3be7-4eff-8ccb-37f0b6445c2d, 'Sodium_mean_2'), (2a95b83b-4329-4a2b-b0c8-be54bd494bc9, 'FED'), (78a01f71-0fea-4d17-920d-a3b5b6fc1b73, 'event_20')]\n"
          ]
        }
      ],
      "source": [
        "print(\"PN Places:\", len(net.places))\n",
        "print(\"\\nPN Places:\", list(net.places))\n",
        "print(\"\\nPN Transitions:\", len(net.transitions))\n",
        "print(\"\\nPN Transitions:\", list(net.transitions))"
      ]
    },
    {
      "cell_type": "markdown",
      "metadata": {
        "id": "HXHSWmSYo-LA"
      },
      "source": [
        "Petri Net"
      ]
    },
    {
      "cell_type": "code",
      "execution_count": 16,
      "metadata": {
        "id": "y15iOva6l-1T"
      },
      "outputs": [],
      "source": [
        "from pm4py.visualization.petri_net import visualizer as pn_visualizer\n",
        "import graphviz\n",
        "import tempfile\n"
      ]
    },
    {
      "cell_type": "code",
      "execution_count": 17,
      "metadata": {
        "colab": {
          "base_uri": "https://localhost:8080/",
          "height": 79
        },
        "id": "z0Q2qT75oS5E",
        "outputId": "33c7a2c2-c1e5-4963-9e94-401f2fe78144"
      },
      "outputs": [
        {
          "output_type": "execute_result",
          "data": {
            "image/png": "[encoded data removed]",
            "text/plain": [
              "<IPython.core.display.Image object>"
            ]
          },
          "metadata": {},
          "execution_count": 17
        }
      ],
      "source": [
        "gviz = pn_visualizer.apply(net, im, fm)\n",
        "import IPython.display as display\n",
        "#display(gviz)\n",
        "with tempfile.NamedTemporaryFile(suffix=\".png\", delete=False) as tmpfile:\n",
        "    image_path = tmpfile.name\n",
        "    pn_visualizer.save(gviz, image_path)\n",
        "\n",
        "#Display the saved image in the Colab notebook\n",
        "display.Image(filename=image_path)"
      ]
    },
    {
      "cell_type": "code",
      "execution_count": 18,
      "metadata": {
        "id": "YniNa-p0SmCZ"
      },
      "outputs": [],
      "source": [
        "#conformance checking"
      ]
    },
    {
      "cell_type": "markdown",
      "metadata": {
        "id": "UXU4y3OqT69g"
      },
      "source": [
        "Conformance checking"
      ]
    },
    {
      "cell_type": "markdown",
      "metadata": {
        "id": "hBKjkIKWUMgm"
      },
      "source": [
        "Precision"
      ]
    },
    {
      "cell_type": "code",
      "execution_count": 19,
      "metadata": {
        "id": "XOlIvE_CSpkW",
        "colab": {
          "base_uri": "https://localhost:8080/",
          "height": 49,
          "referenced_widgets": [
            "c4a2dac54e34440aa3318ca37ac51cde",
            "8c32f50aae034d21872264dbec58ab6d",
            "90888b7f2d804506be6a7c31d84524e6",
            "58cde6a0ba2f4f73b5f52aaaaa6be258",
            "bf5429140aaa44cbb99c81473ae9d079",
            "c69d7435bf854e25aa7df57c86b9625f",
            "295ab8c9ed7b4be98afe4bf02706098e",
            "6ee1195dac494b62b9c068c7aa748c34",
            "9c04e24d1d2d4426a962745c5bf3554e",
            "3223804f392b471c965787696d2d79bd",
            "731117586d0643258d6afdfbd73b0241"
          ]
        },
        "outputId": "2c7b7272-89ed-4b67-f6d5-99981c0a1b9a"
      },
      "outputs": [
        {
          "output_type": "display_data",
          "data": {
            "text/plain": [
              "replaying log with TBR, completed variants ::   0%|          | 0/4545 [00:00<?, ?it/s]"
            ],
            "application/vnd.jupyter.widget-view+json": {
              "version_major": 2,
              "version_minor": 0,
              "model_id": "c4a2dac54e34440aa3318ca37ac51cde"
            }
          },
          "metadata": {}
        }
      ],
      "source": [
        "from pm4py.algo.evaluation.precision import algorithm as precision_evaluator\n",
        "prec = precision_evaluator.apply(log, net, im, fm, variant=precision_evaluator.Variants.ETCONFORMANCE_TOKEN)"
      ]
    },
    {
      "cell_type": "code",
      "execution_count": 20,
      "metadata": {
        "colab": {
          "base_uri": "https://localhost:8080/"
        },
        "id": "pa-Puh5uTkDz",
        "outputId": "eedc6dd1-3b2a-4ba3-d61c-a3a6d3031033"
      },
      "outputs": [
        {
          "output_type": "stream",
          "name": "stdout",
          "text": [
            "0.33333333333333337\n"
          ]
        }
      ],
      "source": [
        "print(prec)"
      ]
    },
    {
      "cell_type": "markdown",
      "metadata": {
        "id": "HQZOZ-YXUP84"
      },
      "source": [
        "Fitness"
      ]
    },
    {
      "cell_type": "code",
      "execution_count": 21,
      "metadata": {
        "id": "Ce1r1Q5BSuN1",
        "colab": {
          "base_uri": "https://localhost:8080/",
          "height": 49,
          "referenced_widgets": [
            "1825d7b1b34e4abab6ddb61fa768b5e5",
            "6595af7f46bb429ba4234d0af72bc1ce",
            "f3df1bfc3ae44bba96fce8dd83ae20ac",
            "f7633362e00647ca946b62698687c2d9",
            "bbfa4e8a48724ca08d0221604795d044",
            "8ab0f275beaf46a3a8b882f823c8e19f",
            "f42cfe1c53fe468fb21e0ca8604149da",
            "c4545350e97f4b708f0758fbc485744d",
            "ee2a69a41e3340b68052162c706843e3",
            "e1492c0cd2b049858ca7aa15aefca89f",
            "7ff881d23b474afa9339f97eea04474f"
          ]
        },
        "outputId": "b2449916-0d19-404a-9537-cf4093b1e62d"
      },
      "outputs": [
        {
          "output_type": "display_data",
          "data": {
            "text/plain": [
              "replaying log with TBR, completed variants ::   0%|          | 0/78 [00:00<?, ?it/s]"
            ],
            "application/vnd.jupyter.widget-view+json": {
              "version_major": 2,
              "version_minor": 0,
              "model_id": "1825d7b1b34e4abab6ddb61fa768b5e5"
            }
          },
          "metadata": {}
        }
      ],
      "source": [
        "# Token based\n",
        "from pm4py.algo.evaluation.replay_fitness import algorithm as replay_fitness_evaluator\n",
        "fitness_token = replay_fitness_evaluator.apply(log, net, im, fm, variant=replay_fitness_evaluator.Variants.TOKEN_BASED)\n",
        "\n",
        "# Alignment based\n",
        "#fitness_alignment = replay_fitness_evaluator.apply(log, net, im, fm, variant=replay_fitness_evaluator.Variants.ALIGNMENT_BASED)"
      ]
    },
    {
      "cell_type": "code",
      "execution_count": 22,
      "metadata": {
        "colab": {
          "base_uri": "https://localhost:8080/"
        },
        "id": "DFkOoMmeToFF",
        "outputId": "83e8eff4-e0ed-434b-d979-aca790531577"
      },
      "outputs": [
        {
          "output_type": "stream",
          "name": "stdout",
          "text": [
            "{'perc_fit_traces': 0.0, 'average_trace_fitness': 0.8528314527415788, 'log_fitness': 0.8595480799179654, 'percentage_of_fitting_traces': 0.0}\n"
          ]
        }
      ],
      "source": [
        "print(fitness_token)\n",
        "#print(fitness_alignment)"
      ]
    }
  ],
  "metadata": {
    "colab": {
      "provenance": []
    },
    "kernelspec": {
      "display_name": "Python 3",
      "name": "python3"
    },
    "language_info": {
      "name": "python"
    },
    "widgets": {
      "application/vnd.jupyter.widget-state+json": {
        "e827578f60ee4b19b7ac155775de7ba8": {
          "model_module": "@jupyter-widgets/controls",
          "model_name": "HBoxModel",
          "model_module_version": "1.5.0",
          "state": {
            "_dom_classes": [],
            "_model_module": "@jupyter-widgets/controls",
            "_model_module_version": "1.5.0",
            "_model_name": "HBoxModel",
            "_view_count": null,
            "_view_module": "@jupyter-widgets/controls",
            "_view_module_version": "1.5.0",
            "_view_name": "HBoxView",
            "box_style": "",
            "children": [
              "IPY_MODEL_e3659716a4c042ee9e6f89701d679bc7",
              "IPY_MODEL_3695833b22334116ab71b5adc7bcaf30",
              "IPY_MODEL_2d67a47acabb45cda952b556cc1c4bcb"
            ],
            "layout": "IPY_MODEL_a133cfb7adcb4706b23e9462b66e0211"
          }
        },
        "e3659716a4c042ee9e6f89701d679bc7": {
          "model_module": "@jupyter-widgets/controls",
          "model_name": "HTMLModel",
          "model_module_version": "1.5.0",
          "state": {
            "_dom_classes": [],
            "_model_module": "@jupyter-widgets/controls",
            "_model_module_version": "1.5.0",
            "_model_name": "HTMLModel",
            "_view_count": null,
            "_view_module": "@jupyter-widgets/controls",
            "_view_module_version": "1.5.0",
            "_view_name": "HTMLView",
            "description": "",
            "description_tooltip": null,
            "layout": "IPY_MODEL_8322c89641cd49ee8f1c82b966bb231b",
            "placeholder": "​",
            "style": "IPY_MODEL_8ce71b66df6a4ad491d0616f47213c2d",
            "value": "exporting log, completed traces :: 100%"
          }
        },
        "3695833b22334116ab71b5adc7bcaf30": {
          "model_module": "@jupyter-widgets/controls",
          "model_name": "FloatProgressModel",
          "model_module_version": "1.5.0",
          "state": {
            "_dom_classes": [],
            "_model_module": "@jupyter-widgets/controls",
            "_model_module_version": "1.5.0",
            "_model_name": "FloatProgressModel",
            "_view_count": null,
            "_view_module": "@jupyter-widgets/controls",
            "_view_module_version": "1.5.0",
            "_view_name": "ProgressView",
            "bar_style": "success",
            "description": "",
            "description_tooltip": null,
            "layout": "IPY_MODEL_bed17f52433b4eb1a174a6b16b171f68",
            "max": 78,
            "min": 0,
            "orientation": "horizontal",
            "style": "IPY_MODEL_dcea8060b8b14215816866d33ced6774",
            "value": 78
          }
        },
        "2d67a47acabb45cda952b556cc1c4bcb": {
          "model_module": "@jupyter-widgets/controls",
          "model_name": "HTMLModel",
          "model_module_version": "1.5.0",
          "state": {
            "_dom_classes": [],
            "_model_module": "@jupyter-widgets/controls",
            "_model_module_version": "1.5.0",
            "_model_name": "HTMLModel",
            "_view_count": null,
            "_view_module": "@jupyter-widgets/controls",
            "_view_module_version": "1.5.0",
            "_view_name": "HTMLView",
            "description": "",
            "description_tooltip": null,
            "layout": "IPY_MODEL_e7e947127d38424994da8d2497e0f26c",
            "placeholder": "​",
            "style": "IPY_MODEL_4be14b696bea44df95d5afb7c5680428",
            "value": " 78/78 [00:00&lt;00:00, 244.95it/s]"
          }
        },
        "a133cfb7adcb4706b23e9462b66e0211": {
          "model_module": "@jupyter-widgets/base",
          "model_name": "LayoutModel",
          "model_module_version": "1.2.0",
          "state": {
            "_model_module": "@jupyter-widgets/base",
            "_model_module_version": "1.2.0",
            "_model_name": "LayoutModel",
            "_view_count": null,
            "_view_module": "@jupyter-widgets/base",
            "_view_module_version": "1.2.0",
            "_view_name": "LayoutView",
            "align_content": null,
            "align_items": null,
            "align_self": null,
            "border": null,
            "bottom": null,
            "display": null,
            "flex": null,
            "flex_flow": null,
            "grid_area": null,
            "grid_auto_columns": null,
            "grid_auto_flow": null,
            "grid_auto_rows": null,
            "grid_column": null,
            "grid_gap": null,
            "grid_row": null,
            "grid_template_areas": null,
            "grid_template_columns": null,
            "grid_template_rows": null,
            "height": null,
            "justify_content": null,
            "justify_items": null,
            "left": null,
            "margin": null,
            "max_height": null,
            "max_width": null,
            "min_height": null,
            "min_width": null,
            "object_fit": null,
            "object_position": null,
            "order": null,
            "overflow": null,
            "overflow_x": null,
            "overflow_y": null,
            "padding": null,
            "right": null,
            "top": null,
            "visibility": null,
            "width": null
          }
        },
        "8322c89641cd49ee8f1c82b966bb231b": {
          "model_module": "@jupyter-widgets/base",
          "model_name": "LayoutModel",
          "model_module_version": "1.2.0",
          "state": {
            "_model_module": "@jupyter-widgets/base",
            "_model_module_version": "1.2.0",
            "_model_name": "LayoutModel",
            "_view_count": null,
            "_view_module": "@jupyter-widgets/base",
            "_view_module_version": "1.2.0",
            "_view_name": "LayoutView",
            "align_content": null,
            "align_items": null,
            "align_self": null,
            "border": null,
            "bottom": null,
            "display": null,
            "flex": null,
            "flex_flow": null,
            "grid_area": null,
            "grid_auto_columns": null,
            "grid_auto_flow": null,
            "grid_auto_rows": null,
            "grid_column": null,
            "grid_gap": null,
            "grid_row": null,
            "grid_template_areas": null,
            "grid_template_columns": null,
            "grid_template_rows": null,
            "height": null,
            "justify_content": null,
            "justify_items": null,
            "left": null,
            "margin": null,
            "max_height": null,
            "max_width": null,
            "min_height": null,
            "min_width": null,
            "object_fit": null,
            "object_position": null,
            "order": null,
            "overflow": null,
            "overflow_x": null,
            "overflow_y": null,
            "padding": null,
            "right": null,
            "top": null,
            "visibility": null,
            "width": null
          }
        },
        "8ce71b66df6a4ad491d0616f47213c2d": {
          "model_module": "@jupyter-widgets/controls",
          "model_name": "DescriptionStyleModel",
          "model_module_version": "1.5.0",
          "state": {
            "_model_module": "@jupyter-widgets/controls",
            "_model_module_version": "1.5.0",
            "_model_name": "DescriptionStyleModel",
            "_view_count": null,
            "_view_module": "@jupyter-widgets/base",
            "_view_module_version": "1.2.0",
            "_view_name": "StyleView",
            "description_width": ""
          }
        },
        "bed17f52433b4eb1a174a6b16b171f68": {
          "model_module": "@jupyter-widgets/base",
          "model_name": "LayoutModel",
          "model_module_version": "1.2.0",
          "state": {
            "_model_module": "@jupyter-widgets/base",
            "_model_module_version": "1.2.0",
            "_model_name": "LayoutModel",
            "_view_count": null,
            "_view_module": "@jupyter-widgets/base",
            "_view_module_version": "1.2.0",
            "_view_name": "LayoutView",
            "align_content": null,
            "align_items": null,
            "align_self": null,
            "border": null,
            "bottom": null,
            "display": null,
            "flex": null,
            "flex_flow": null,
            "grid_area": null,
            "grid_auto_columns": null,
            "grid_auto_flow": null,
            "grid_auto_rows": null,
            "grid_column": null,
            "grid_gap": null,
            "grid_row": null,
            "grid_template_areas": null,
            "grid_template_columns": null,
            "grid_template_rows": null,
            "height": null,
            "justify_content": null,
            "justify_items": null,
            "left": null,
            "margin": null,
            "max_height": null,
            "max_width": null,
            "min_height": null,
            "min_width": null,
            "object_fit": null,
            "object_position": null,
            "order": null,
            "overflow": null,
            "overflow_x": null,
            "overflow_y": null,
            "padding": null,
            "right": null,
            "top": null,
            "visibility": null,
            "width": null
          }
        },
        "dcea8060b8b14215816866d33ced6774": {
          "model_module": "@jupyter-widgets/controls",
          "model_name": "ProgressStyleModel",
          "model_module_version": "1.5.0",
          "state": {
            "_model_module": "@jupyter-widgets/controls",
            "_model_module_version": "1.5.0",
            "_model_name": "ProgressStyleModel",
            "_view_count": null,
            "_view_module": "@jupyter-widgets/base",
            "_view_module_version": "1.2.0",
            "_view_name": "StyleView",
            "bar_color": null,
            "description_width": ""
          }
        },
        "e7e947127d38424994da8d2497e0f26c": {
          "model_module": "@jupyter-widgets/base",
          "model_name": "LayoutModel",
          "model_module_version": "1.2.0",
          "state": {
            "_model_module": "@jupyter-widgets/base",
            "_model_module_version": "1.2.0",
            "_model_name": "LayoutModel",
            "_view_count": null,
            "_view_module": "@jupyter-widgets/base",
            "_view_module_version": "1.2.0",
            "_view_name": "LayoutView",
            "align_content": null,
            "align_items": null,
            "align_self": null,
            "border": null,
            "bottom": null,
            "display": null,
            "flex": null,
            "flex_flow": null,
            "grid_area": null,
            "grid_auto_columns": null,
            "grid_auto_flow": null,
            "grid_auto_rows": null,
            "grid_column": null,
            "grid_gap": null,
            "grid_row": null,
            "grid_template_areas": null,
            "grid_template_columns": null,
            "grid_template_rows": null,
            "height": null,
            "justify_content": null,
            "justify_items": null,
            "left": null,
            "margin": null,
            "max_height": null,
            "max_width": null,
            "min_height": null,
            "min_width": null,
            "object_fit": null,
            "object_position": null,
            "order": null,
            "overflow": null,
            "overflow_x": null,
            "overflow_y": null,
            "padding": null,
            "right": null,
            "top": null,
            "visibility": null,
            "width": null
          }
        },
        "4be14b696bea44df95d5afb7c5680428": {
          "model_module": "@jupyter-widgets/controls",
          "model_name": "DescriptionStyleModel",
          "model_module_version": "1.5.0",
          "state": {
            "_model_module": "@jupyter-widgets/controls",
            "_model_module_version": "1.5.0",
            "_model_name": "DescriptionStyleModel",
            "_view_count": null,
            "_view_module": "@jupyter-widgets/base",
            "_view_module_version": "1.2.0",
            "_view_name": "StyleView",
            "description_width": ""
          }
        },
        "1e3050b9008f44e7b4c25b4e0b185215": {
          "model_module": "@jupyter-widgets/controls",
          "model_name": "HBoxModel",
          "model_module_version": "1.5.0",
          "state": {
            "_dom_classes": [],
            "_model_module": "@jupyter-widgets/controls",
            "_model_module_version": "1.5.0",
            "_model_name": "HBoxModel",
            "_view_count": null,
            "_view_module": "@jupyter-widgets/controls",
            "_view_module_version": "1.5.0",
            "_view_name": "HBoxView",
            "box_style": "",
            "children": [
              "IPY_MODEL_5a7a810fc0a942dc8f5ab7698fcff531",
              "IPY_MODEL_f0c64ac425064e6ab3e85acc0b5bf919",
              "IPY_MODEL_96afe665459848af9f2e0ec88f813880"
            ],
            "layout": "IPY_MODEL_a039c122b58b4bbc9aa189d4b7b5ba99"
          }
        },
        "5a7a810fc0a942dc8f5ab7698fcff531": {
          "model_module": "@jupyter-widgets/controls",
          "model_name": "HTMLModel",
          "model_module_version": "1.5.0",
          "state": {
            "_dom_classes": [],
            "_model_module": "@jupyter-widgets/controls",
            "_model_module_version": "1.5.0",
            "_model_name": "HTMLModel",
            "_view_count": null,
            "_view_module": "@jupyter-widgets/controls",
            "_view_module_version": "1.5.0",
            "_view_name": "HTMLView",
            "description": "",
            "description_tooltip": null,
            "layout": "IPY_MODEL_12f80b80e27c4b7981ac40e4f5486d47",
            "placeholder": "​",
            "style": "IPY_MODEL_912a6ffe2e044913a02e3fdb4438ef4f",
            "value": "parsing log, completed traces :: 100%"
          }
        },
        "f0c64ac425064e6ab3e85acc0b5bf919": {
          "model_module": "@jupyter-widgets/controls",
          "model_name": "FloatProgressModel",
          "model_module_version": "1.5.0",
          "state": {
            "_dom_classes": [],
            "_model_module": "@jupyter-widgets/controls",
            "_model_module_version": "1.5.0",
            "_model_name": "FloatProgressModel",
            "_view_count": null,
            "_view_module": "@jupyter-widgets/controls",
            "_view_module_version": "1.5.0",
            "_view_name": "ProgressView",
            "bar_style": "success",
            "description": "",
            "description_tooltip": null,
            "layout": "IPY_MODEL_a2fbf3df44a549f68e060fe688d87f13",
            "max": 78,
            "min": 0,
            "orientation": "horizontal",
            "style": "IPY_MODEL_99161ec89546473fb0495926c75205dc",
            "value": 78
          }
        },
        "96afe665459848af9f2e0ec88f813880": {
          "model_module": "@jupyter-widgets/controls",
          "model_name": "HTMLModel",
          "model_module_version": "1.5.0",
          "state": {
            "_dom_classes": [],
            "_model_module": "@jupyter-widgets/controls",
            "_model_module_version": "1.5.0",
            "_model_name": "HTMLModel",
            "_view_count": null,
            "_view_module": "@jupyter-widgets/controls",
            "_view_module_version": "1.5.0",
            "_view_name": "HTMLView",
            "description": "",
            "description_tooltip": null,
            "layout": "IPY_MODEL_275c4634e8e44ca8bc6a2c98be523450",
            "placeholder": "​",
            "style": "IPY_MODEL_cec1d82c7b864a2987aa2d19668354af",
            "value": " 78/78 [00:00&lt;00:00, 173.78it/s]"
          }
        },
        "a039c122b58b4bbc9aa189d4b7b5ba99": {
          "model_module": "@jupyter-widgets/base",
          "model_name": "LayoutModel",
          "model_module_version": "1.2.0",
          "state": {
            "_model_module": "@jupyter-widgets/base",
            "_model_module_version": "1.2.0",
            "_model_name": "LayoutModel",
            "_view_count": null,
            "_view_module": "@jupyter-widgets/base",
            "_view_module_version": "1.2.0",
            "_view_name": "LayoutView",
            "align_content": null,
            "align_items": null,
            "align_self": null,
            "border": null,
            "bottom": null,
            "display": null,
            "flex": null,
            "flex_flow": null,
            "grid_area": null,
            "grid_auto_columns": null,
            "grid_auto_flow": null,
            "grid_auto_rows": null,
            "grid_column": null,
            "grid_gap": null,
            "grid_row": null,
            "grid_template_areas": null,
            "grid_template_columns": null,
            "grid_template_rows": null,
            "height": null,
            "justify_content": null,
            "justify_items": null,
            "left": null,
            "margin": null,
            "max_height": null,
            "max_width": null,
            "min_height": null,
            "min_width": null,
            "object_fit": null,
            "object_position": null,
            "order": null,
            "overflow": null,
            "overflow_x": null,
            "overflow_y": null,
            "padding": null,
            "right": null,
            "top": null,
            "visibility": null,
            "width": null
          }
        },
        "12f80b80e27c4b7981ac40e4f5486d47": {
          "model_module": "@jupyter-widgets/base",
          "model_name": "LayoutModel",
          "model_module_version": "1.2.0",
          "state": {
            "_model_module": "@jupyter-widgets/base",
            "_model_module_version": "1.2.0",
            "_model_name": "LayoutModel",
            "_view_count": null,
            "_view_module": "@jupyter-widgets/base",
            "_view_module_version": "1.2.0",
            "_view_name": "LayoutView",
            "align_content": null,
            "align_items": null,
            "align_self": null,
            "border": null,
            "bottom": null,
            "display": null,
            "flex": null,
            "flex_flow": null,
            "grid_area": null,
            "grid_auto_columns": null,
            "grid_auto_flow": null,
            "grid_auto_rows": null,
            "grid_column": null,
            "grid_gap": null,
            "grid_row": null,
            "grid_template_areas": null,
            "grid_template_columns": null,
            "grid_template_rows": null,
            "height": null,
            "justify_content": null,
            "justify_items": null,
            "left": null,
            "margin": null,
            "max_height": null,
            "max_width": null,
            "min_height": null,
            "min_width": null,
            "object_fit": null,
            "object_position": null,
            "order": null,
            "overflow": null,
            "overflow_x": null,
            "overflow_y": null,
            "padding": null,
            "right": null,
            "top": null,
            "visibility": null,
            "width": null
          }
        },
        "912a6ffe2e044913a02e3fdb4438ef4f": {
          "model_module": "@jupyter-widgets/controls",
          "model_name": "DescriptionStyleModel",
          "model_module_version": "1.5.0",
          "state": {
            "_model_module": "@jupyter-widgets/controls",
            "_model_module_version": "1.5.0",
            "_model_name": "DescriptionStyleModel",
            "_view_count": null,
            "_view_module": "@jupyter-widgets/base",
            "_view_module_version": "1.2.0",
            "_view_name": "StyleView",
            "description_width": ""
          }
        },
        "a2fbf3df44a549f68e060fe688d87f13": {
          "model_module": "@jupyter-widgets/base",
          "model_name": "LayoutModel",
          "model_module_version": "1.2.0",
          "state": {
            "_model_module": "@jupyter-widgets/base",
            "_model_module_version": "1.2.0",
            "_model_name": "LayoutModel",
            "_view_count": null,
            "_view_module": "@jupyter-widgets/base",
            "_view_module_version": "1.2.0",
            "_view_name": "LayoutView",
            "align_content": null,
            "align_items": null,
            "align_self": null,
            "border": null,
            "bottom": null,
            "display": null,
            "flex": null,
            "flex_flow": null,
            "grid_area": null,
            "grid_auto_columns": null,
            "grid_auto_flow": null,
            "grid_auto_rows": null,
            "grid_column": null,
            "grid_gap": null,
            "grid_row": null,
            "grid_template_areas": null,
            "grid_template_columns": null,
            "grid_template_rows": null,
            "height": null,
            "justify_content": null,
            "justify_items": null,
            "left": null,
            "margin": null,
            "max_height": null,
            "max_width": null,
            "min_height": null,
            "min_width": null,
            "object_fit": null,
            "object_position": null,
            "order": null,
            "overflow": null,
            "overflow_x": null,
            "overflow_y": null,
            "padding": null,
            "right": null,
            "top": null,
            "visibility": null,
            "width": null
          }
        },
        "99161ec89546473fb0495926c75205dc": {
          "model_module": "@jupyter-widgets/controls",
          "model_name": "ProgressStyleModel",
          "model_module_version": "1.5.0",
          "state": {
            "_model_module": "@jupyter-widgets/controls",
            "_model_module_version": "1.5.0",
            "_model_name": "ProgressStyleModel",
            "_view_count": null,
            "_view_module": "@jupyter-widgets/base",
            "_view_module_version": "1.2.0",
            "_view_name": "StyleView",
            "bar_color": null,
            "description_width": ""
          }
        },
        "275c4634e8e44ca8bc6a2c98be523450": {
          "model_module": "@jupyter-widgets/base",
          "model_name": "LayoutModel",
          "model_module_version": "1.2.0",
          "state": {
            "_model_module": "@jupyter-widgets/base",
            "_model_module_version": "1.2.0",
            "_model_name": "LayoutModel",
            "_view_count": null,
            "_view_module": "@jupyter-widgets/base",
            "_view_module_version": "1.2.0",
            "_view_name": "LayoutView",
            "align_content": null,
            "align_items": null,
            "align_self": null,
            "border": null,
            "bottom": null,
            "display": null,
            "flex": null,
            "flex_flow": null,
            "grid_area": null,
            "grid_auto_columns": null,
            "grid_auto_flow": null,
            "grid_auto_rows": null,
            "grid_column": null,
            "grid_gap": null,
            "grid_row": null,
            "grid_template_areas": null,
            "grid_template_columns": null,
            "grid_template_rows": null,
            "height": null,
            "justify_content": null,
            "justify_items": null,
            "left": null,
            "margin": null,
            "max_height": null,
            "max_width": null,
            "min_height": null,
            "min_width": null,
            "object_fit": null,
            "object_position": null,
            "order": null,
            "overflow": null,
            "overflow_x": null,
            "overflow_y": null,
            "padding": null,
            "right": null,
            "top": null,
            "visibility": null,
            "width": null
          }
        },
        "cec1d82c7b864a2987aa2d19668354af": {
          "model_module": "@jupyter-widgets/controls",
          "model_name": "DescriptionStyleModel",
          "model_module_version": "1.5.0",
          "state": {
            "_model_module": "@jupyter-widgets/controls",
            "_model_module_version": "1.5.0",
            "_model_name": "DescriptionStyleModel",
            "_view_count": null,
            "_view_module": "@jupyter-widgets/base",
            "_view_module_version": "1.2.0",
            "_view_name": "StyleView",
            "description_width": ""
          }
        },
        "c4a2dac54e34440aa3318ca37ac51cde": {
          "model_module": "@jupyter-widgets/controls",
          "model_name": "HBoxModel",
          "model_module_version": "1.5.0",
          "state": {
            "_dom_classes": [],
            "_model_module": "@jupyter-widgets/controls",
            "_model_module_version": "1.5.0",
            "_model_name": "HBoxModel",
            "_view_count": null,
            "_view_module": "@jupyter-widgets/controls",
            "_view_module_version": "1.5.0",
            "_view_name": "HBoxView",
            "box_style": "",
            "children": [
              "IPY_MODEL_8c32f50aae034d21872264dbec58ab6d",
              "IPY_MODEL_90888b7f2d804506be6a7c31d84524e6",
              "IPY_MODEL_58cde6a0ba2f4f73b5f52aaaaa6be258"
            ],
            "layout": "IPY_MODEL_bf5429140aaa44cbb99c81473ae9d079"
          }
        },
        "8c32f50aae034d21872264dbec58ab6d": {
          "model_module": "@jupyter-widgets/controls",
          "model_name": "HTMLModel",
          "model_module_version": "1.5.0",
          "state": {
            "_dom_classes": [],
            "_model_module": "@jupyter-widgets/controls",
            "_model_module_version": "1.5.0",
            "_model_name": "HTMLModel",
            "_view_count": null,
            "_view_module": "@jupyter-widgets/controls",
            "_view_module_version": "1.5.0",
            "_view_name": "HTMLView",
            "description": "",
            "description_tooltip": null,
            "layout": "IPY_MODEL_c69d7435bf854e25aa7df57c86b9625f",
            "placeholder": "​",
            "style": "IPY_MODEL_295ab8c9ed7b4be98afe4bf02706098e",
            "value": "replaying log with TBR, completed variants :: 100%"
          }
        },
        "90888b7f2d804506be6a7c31d84524e6": {
          "model_module": "@jupyter-widgets/controls",
          "model_name": "FloatProgressModel",
          "model_module_version": "1.5.0",
          "state": {
            "_dom_classes": [],
            "_model_module": "@jupyter-widgets/controls",
            "_model_module_version": "1.5.0",
            "_model_name": "FloatProgressModel",
            "_view_count": null,
            "_view_module": "@jupyter-widgets/controls",
            "_view_module_version": "1.5.0",
            "_view_name": "ProgressView",
            "bar_style": "success",
            "description": "",
            "description_tooltip": null,
            "layout": "IPY_MODEL_6ee1195dac494b62b9c068c7aa748c34",
            "max": 4545,
            "min": 0,
            "orientation": "horizontal",
            "style": "IPY_MODEL_9c04e24d1d2d4426a962745c5bf3554e",
            "value": 4545
          }
        },
        "58cde6a0ba2f4f73b5f52aaaaa6be258": {
          "model_module": "@jupyter-widgets/controls",
          "model_name": "HTMLModel",
          "model_module_version": "1.5.0",
          "state": {
            "_dom_classes": [],
            "_model_module": "@jupyter-widgets/controls",
            "_model_module_version": "1.5.0",
            "_model_name": "HTMLModel",
            "_view_count": null,
            "_view_module": "@jupyter-widgets/controls",
            "_view_module_version": "1.5.0",
            "_view_name": "HTMLView",
            "description": "",
            "description_tooltip": null,
            "layout": "IPY_MODEL_3223804f392b471c965787696d2d79bd",
            "placeholder": "​",
            "style": "IPY_MODEL_731117586d0643258d6afdfbd73b0241",
            "value": " 4545/4545 [00:05&lt;00:00, 759.46it/s]"
          }
        },
        "bf5429140aaa44cbb99c81473ae9d079": {
          "model_module": "@jupyter-widgets/base",
          "model_name": "LayoutModel",
          "model_module_version": "1.2.0",
          "state": {
            "_model_module": "@jupyter-widgets/base",
            "_model_module_version": "1.2.0",
            "_model_name": "LayoutModel",
            "_view_count": null,
            "_view_module": "@jupyter-widgets/base",
            "_view_module_version": "1.2.0",
            "_view_name": "LayoutView",
            "align_content": null,
            "align_items": null,
            "align_self": null,
            "border": null,
            "bottom": null,
            "display": null,
            "flex": null,
            "flex_flow": null,
            "grid_area": null,
            "grid_auto_columns": null,
            "grid_auto_flow": null,
            "grid_auto_rows": null,
            "grid_column": null,
            "grid_gap": null,
            "grid_row": null,
            "grid_template_areas": null,
            "grid_template_columns": null,
            "grid_template_rows": null,
            "height": null,
            "justify_content": null,
            "justify_items": null,
            "left": null,
            "margin": null,
            "max_height": null,
            "max_width": null,
            "min_height": null,
            "min_width": null,
            "object_fit": null,
            "object_position": null,
            "order": null,
            "overflow": null,
            "overflow_x": null,
            "overflow_y": null,
            "padding": null,
            "right": null,
            "top": null,
            "visibility": null,
            "width": null
          }
        },
        "c69d7435bf854e25aa7df57c86b9625f": {
          "model_module": "@jupyter-widgets/base",
          "model_name": "LayoutModel",
          "model_module_version": "1.2.0",
          "state": {
            "_model_module": "@jupyter-widgets/base",
            "_model_module_version": "1.2.0",
            "_model_name": "LayoutModel",
            "_view_count": null,
            "_view_module": "@jupyter-widgets/base",
            "_view_module_version": "1.2.0",
            "_view_name": "LayoutView",
            "align_content": null,
            "align_items": null,
            "align_self": null,
            "border": null,
            "bottom": null,
            "display": null,
            "flex": null,
            "flex_flow": null,
            "grid_area": null,
            "grid_auto_columns": null,
            "grid_auto_flow": null,
            "grid_auto_rows": null,
            "grid_column": null,
            "grid_gap": null,
            "grid_row": null,
            "grid_template_areas": null,
            "grid_template_columns": null,
            "grid_template_rows": null,
            "height": null,
            "justify_content": null,
            "justify_items": null,
            "left": null,
            "margin": null,
            "max_height": null,
            "max_width": null,
            "min_height": null,
            "min_width": null,
            "object_fit": null,
            "object_position": null,
            "order": null,
            "overflow": null,
            "overflow_x": null,
            "overflow_y": null,
            "padding": null,
            "right": null,
            "top": null,
            "visibility": null,
            "width": null
          }
        },
        "295ab8c9ed7b4be98afe4bf02706098e": {
          "model_module": "@jupyter-widgets/controls",
          "model_name": "DescriptionStyleModel",
          "model_module_version": "1.5.0",
          "state": {
            "_model_module": "@jupyter-widgets/controls",
            "_model_module_version": "1.5.0",
            "_model_name": "DescriptionStyleModel",
            "_view_count": null,
            "_view_module": "@jupyter-widgets/base",
            "_view_module_version": "1.2.0",
            "_view_name": "StyleView",
            "description_width": ""
          }
        },
        "6ee1195dac494b62b9c068c7aa748c34": {
          "model_module": "@jupyter-widgets/base",
          "model_name": "LayoutModel",
          "model_module_version": "1.2.0",
          "state": {
            "_model_module": "@jupyter-widgets/base",
            "_model_module_version": "1.2.0",
            "_model_name": "LayoutModel",
            "_view_count": null,
            "_view_module": "@jupyter-widgets/base",
            "_view_module_version": "1.2.0",
            "_view_name": "LayoutView",
            "align_content": null,
            "align_items": null,
            "align_self": null,
            "border": null,
            "bottom": null,
            "display": null,
            "flex": null,
            "flex_flow": null,
            "grid_area": null,
            "grid_auto_columns": null,
            "grid_auto_flow": null,
            "grid_auto_rows": null,
            "grid_column": null,
            "grid_gap": null,
            "grid_row": null,
            "grid_template_areas": null,
            "grid_template_columns": null,
            "grid_template_rows": null,
            "height": null,
            "justify_content": null,
            "justify_items": null,
            "left": null,
            "margin": null,
            "max_height": null,
            "max_width": null,
            "min_height": null,
            "min_width": null,
            "object_fit": null,
            "object_position": null,
            "order": null,
            "overflow": null,
            "overflow_x": null,
            "overflow_y": null,
            "padding": null,
            "right": null,
            "top": null,
            "visibility": null,
            "width": null
          }
        },
        "9c04e24d1d2d4426a962745c5bf3554e": {
          "model_module": "@jupyter-widgets/controls",
          "model_name": "ProgressStyleModel",
          "model_module_version": "1.5.0",
          "state": {
            "_model_module": "@jupyter-widgets/controls",
            "_model_module_version": "1.5.0",
            "_model_name": "ProgressStyleModel",
            "_view_count": null,
            "_view_module": "@jupyter-widgets/base",
            "_view_module_version": "1.2.0",
            "_view_name": "StyleView",
            "bar_color": null,
            "description_width": ""
          }
        },
        "3223804f392b471c965787696d2d79bd": {
          "model_module": "@jupyter-widgets/base",
          "model_name": "LayoutModel",
          "model_module_version": "1.2.0",
          "state": {
            "_model_module": "@jupyter-widgets/base",
            "_model_module_version": "1.2.0",
            "_model_name": "LayoutModel",
            "_view_count": null,
            "_view_module": "@jupyter-widgets/base",
            "_view_module_version": "1.2.0",
            "_view_name": "LayoutView",
            "align_content": null,
            "align_items": null,
            "align_self": null,
            "border": null,
            "bottom": null,
            "display": null,
            "flex": null,
            "flex_flow": null,
            "grid_area": null,
            "grid_auto_columns": null,
            "grid_auto_flow": null,
            "grid_auto_rows": null,
            "grid_column": null,
            "grid_gap": null,
            "grid_row": null,
            "grid_template_areas": null,
            "grid_template_columns": null,
            "grid_template_rows": null,
            "height": null,
            "justify_content": null,
            "justify_items": null,
            "left": null,
            "margin": null,
            "max_height": null,
            "max_width": null,
            "min_height": null,
            "min_width": null,
            "object_fit": null,
            "object_position": null,
            "order": null,
            "overflow": null,
            "overflow_x": null,
            "overflow_y": null,
            "padding": null,
            "right": null,
            "top": null,
            "visibility": null,
            "width": null
          }
        },
        "731117586d0643258d6afdfbd73b0241": {
          "model_module": "@jupyter-widgets/controls",
          "model_name": "DescriptionStyleModel",
          "model_module_version": "1.5.0",
          "state": {
            "_model_module": "@jupyter-widgets/controls",
            "_model_module_version": "1.5.0",
            "_model_name": "DescriptionStyleModel",
            "_view_count": null,
            "_view_module": "@jupyter-widgets/base",
            "_view_module_version": "1.2.0",
            "_view_name": "StyleView",
            "description_width": ""
          }
        },
        "1825d7b1b34e4abab6ddb61fa768b5e5": {
          "model_module": "@jupyter-widgets/controls",
          "model_name": "HBoxModel",
          "model_module_version": "1.5.0",
          "state": {
            "_dom_classes": [],
            "_model_module": "@jupyter-widgets/controls",
            "_model_module_version": "1.5.0",
            "_model_name": "HBoxModel",
            "_view_count": null,
            "_view_module": "@jupyter-widgets/controls",
            "_view_module_version": "1.5.0",
            "_view_name": "HBoxView",
            "box_style": "",
            "children": [
              "IPY_MODEL_6595af7f46bb429ba4234d0af72bc1ce",
              "IPY_MODEL_f3df1bfc3ae44bba96fce8dd83ae20ac",
              "IPY_MODEL_f7633362e00647ca946b62698687c2d9"
            ],
            "layout": "IPY_MODEL_bbfa4e8a48724ca08d0221604795d044"
          }
        },
        "6595af7f46bb429ba4234d0af72bc1ce": {
          "model_module": "@jupyter-widgets/controls",
          "model_name": "HTMLModel",
          "model_module_version": "1.5.0",
          "state": {
            "_dom_classes": [],
            "_model_module": "@jupyter-widgets/controls",
            "_model_module_version": "1.5.0",
            "_model_name": "HTMLModel",
            "_view_count": null,
            "_view_module": "@jupyter-widgets/controls",
            "_view_module_version": "1.5.0",
            "_view_name": "HTMLView",
            "description": "",
            "description_tooltip": null,
            "layout": "IPY_MODEL_8ab0f275beaf46a3a8b882f823c8e19f",
            "placeholder": "​",
            "style": "IPY_MODEL_f42cfe1c53fe468fb21e0ca8604149da",
            "value": "replaying log with TBR, completed variants :: 100%"
          }
        },
        "f3df1bfc3ae44bba96fce8dd83ae20ac": {
          "model_module": "@jupyter-widgets/controls",
          "model_name": "FloatProgressModel",
          "model_module_version": "1.5.0",
          "state": {
            "_dom_classes": [],
            "_model_module": "@jupyter-widgets/controls",
            "_model_module_version": "1.5.0",
            "_model_name": "FloatProgressModel",
            "_view_count": null,
            "_view_module": "@jupyter-widgets/controls",
            "_view_module_version": "1.5.0",
            "_view_name": "ProgressView",
            "bar_style": "success",
            "description": "",
            "description_tooltip": null,
            "layout": "IPY_MODEL_c4545350e97f4b708f0758fbc485744d",
            "max": 78,
            "min": 0,
            "orientation": "horizontal",
            "style": "IPY_MODEL_ee2a69a41e3340b68052162c706843e3",
            "value": 78
          }
        },
        "f7633362e00647ca946b62698687c2d9": {
          "model_module": "@jupyter-widgets/controls",
          "model_name": "HTMLModel",
          "model_module_version": "1.5.0",
          "state": {
            "_dom_classes": [],
            "_model_module": "@jupyter-widgets/controls",
            "_model_module_version": "1.5.0",
            "_model_name": "HTMLModel",
            "_view_count": null,
            "_view_module": "@jupyter-widgets/controls",
            "_view_module_version": "1.5.0",
            "_view_name": "HTMLView",
            "description": "",
            "description_tooltip": null,
            "layout": "IPY_MODEL_e1492c0cd2b049858ca7aa15aefca89f",
            "placeholder": "​",
            "style": "IPY_MODEL_7ff881d23b474afa9339f97eea04474f",
            "value": " 78/78 [00:04&lt;00:00, 20.09it/s]"
          }
        },
        "bbfa4e8a48724ca08d0221604795d044": {
          "model_module": "@jupyter-widgets/base",
          "model_name": "LayoutModel",
          "model_module_version": "1.2.0",
          "state": {
            "_model_module": "@jupyter-widgets/base",
            "_model_module_version": "1.2.0",
            "_model_name": "LayoutModel",
            "_view_count": null,
            "_view_module": "@jupyter-widgets/base",
            "_view_module_version": "1.2.0",
            "_view_name": "LayoutView",
            "align_content": null,
            "align_items": null,
            "align_self": null,
            "border": null,
            "bottom": null,
            "display": null,
            "flex": null,
            "flex_flow": null,
            "grid_area": null,
            "grid_auto_columns": null,
            "grid_auto_flow": null,
            "grid_auto_rows": null,
            "grid_column": null,
            "grid_gap": null,
            "grid_row": null,
            "grid_template_areas": null,
            "grid_template_columns": null,
            "grid_template_rows": null,
            "height": null,
            "justify_content": null,
            "justify_items": null,
            "left": null,
            "margin": null,
            "max_height": null,
            "max_width": null,
            "min_height": null,
            "min_width": null,
            "object_fit": null,
            "object_position": null,
            "order": null,
            "overflow": null,
            "overflow_x": null,
            "overflow_y": null,
            "padding": null,
            "right": null,
            "top": null,
            "visibility": null,
            "width": null
          }
        },
        "8ab0f275beaf46a3a8b882f823c8e19f": {
          "model_module": "@jupyter-widgets/base",
          "model_name": "LayoutModel",
          "model_module_version": "1.2.0",
          "state": {
            "_model_module": "@jupyter-widgets/base",
            "_model_module_version": "1.2.0",
            "_model_name": "LayoutModel",
            "_view_count": null,
            "_view_module": "@jupyter-widgets/base",
            "_view_module_version": "1.2.0",
            "_view_name": "LayoutView",
            "align_content": null,
            "align_items": null,
            "align_self": null,
            "border": null,
            "bottom": null,
            "display": null,
            "flex": null,
            "flex_flow": null,
            "grid_area": null,
            "grid_auto_columns": null,
            "grid_auto_flow": null,
            "grid_auto_rows": null,
            "grid_column": null,
            "grid_gap": null,
            "grid_row": null,
            "grid_template_areas": null,
            "grid_template_columns": null,
            "grid_template_rows": null,
            "height": null,
            "justify_content": null,
            "justify_items": null,
            "left": null,
            "margin": null,
            "max_height": null,
            "max_width": null,
            "min_height": null,
            "min_width": null,
            "object_fit": null,
            "object_position": null,
            "order": null,
            "overflow": null,
            "overflow_x": null,
            "overflow_y": null,
            "padding": null,
            "right": null,
            "top": null,
            "visibility": null,
            "width": null
          }
        },
        "f42cfe1c53fe468fb21e0ca8604149da": {
          "model_module": "@jupyter-widgets/controls",
          "model_name": "DescriptionStyleModel",
          "model_module_version": "1.5.0",
          "state": {
            "_model_module": "@jupyter-widgets/controls",
            "_model_module_version": "1.5.0",
            "_model_name": "DescriptionStyleModel",
            "_view_count": null,
            "_view_module": "@jupyter-widgets/base",
            "_view_module_version": "1.2.0",
            "_view_name": "StyleView",
            "description_width": ""
          }
        },
        "c4545350e97f4b708f0758fbc485744d": {
          "model_module": "@jupyter-widgets/base",
          "model_name": "LayoutModel",
          "model_module_version": "1.2.0",
          "state": {
            "_model_module": "@jupyter-widgets/base",
            "_model_module_version": "1.2.0",
            "_model_name": "LayoutModel",
            "_view_count": null,
            "_view_module": "@jupyter-widgets/base",
            "_view_module_version": "1.2.0",
            "_view_name": "LayoutView",
            "align_content": null,
            "align_items": null,
            "align_self": null,
            "border": null,
            "bottom": null,
            "display": null,
            "flex": null,
            "flex_flow": null,
            "grid_area": null,
            "grid_auto_columns": null,
            "grid_auto_flow": null,
            "grid_auto_rows": null,
            "grid_column": null,
            "grid_gap": null,
            "grid_row": null,
            "grid_template_areas": null,
            "grid_template_columns": null,
            "grid_template_rows": null,
            "height": null,
            "justify_content": null,
            "justify_items": null,
            "left": null,
            "margin": null,
            "max_height": null,
            "max_width": null,
            "min_height": null,
            "min_width": null,
            "object_fit": null,
            "object_position": null,
            "order": null,
            "overflow": null,
            "overflow_x": null,
            "overflow_y": null,
            "padding": null,
            "right": null,
            "top": null,
            "visibility": null,
            "width": null
          }
        },
        "ee2a69a41e3340b68052162c706843e3": {
          "model_module": "@jupyter-widgets/controls",
          "model_name": "ProgressStyleModel",
          "model_module_version": "1.5.0",
          "state": {
            "_model_module": "@jupyter-widgets/controls",
            "_model_module_version": "1.5.0",
            "_model_name": "ProgressStyleModel",
            "_view_count": null,
            "_view_module": "@jupyter-widgets/base",
            "_view_module_version": "1.2.0",
            "_view_name": "StyleView",
            "bar_color": null,
            "description_width": ""
          }
        },
        "e1492c0cd2b049858ca7aa15aefca89f": {
          "model_module": "@jupyter-widgets/base",
          "model_name": "LayoutModel",
          "model_module_version": "1.2.0",
          "state": {
            "_model_module": "@jupyter-widgets/base",
            "_model_module_version": "1.2.0",
            "_model_name": "LayoutModel",
            "_view_count": null,
            "_view_module": "@jupyter-widgets/base",
            "_view_module_version": "1.2.0",
            "_view_name": "LayoutView",
            "align_content": null,
            "align_items": null,
            "align_self": null,
            "border": null,
            "bottom": null,
            "display": null,
            "flex": null,
            "flex_flow": null,
            "grid_area": null,
            "grid_auto_columns": null,
            "grid_auto_flow": null,
            "grid_auto_rows": null,
            "grid_column": null,
            "grid_gap": null,
            "grid_row": null,
            "grid_template_areas": null,
            "grid_template_columns": null,
            "grid_template_rows": null,
            "height": null,
            "justify_content": null,
            "justify_items": null,
            "left": null,
            "margin": null,
            "max_height": null,
            "max_width": null,
            "min_height": null,
            "min_width": null,
            "object_fit": null,
            "object_position": null,
            "order": null,
            "overflow": null,
            "overflow_x": null,
            "overflow_y": null,
            "padding": null,
            "right": null,
            "top": null,
            "visibility": null,
            "width": null
          }
        },
        "7ff881d23b474afa9339f97eea04474f": {
          "model_module": "@jupyter-widgets/controls",
          "model_name": "DescriptionStyleModel",
          "model_module_version": "1.5.0",
          "state": {
            "_model_module": "@jupyter-widgets/controls",
            "_model_module_version": "1.5.0",
            "_model_name": "DescriptionStyleModel",
            "_view_count": null,
            "_view_module": "@jupyter-widgets/base",
            "_view_module_version": "1.2.0",
            "_view_name": "StyleView",
            "description_width": ""
          }
        }
      }
    }
  },
  "nbformat": 4,
  "nbformat_minor": 0
}
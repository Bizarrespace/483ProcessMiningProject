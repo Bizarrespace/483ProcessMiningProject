{
 "cells": [
  {
   "cell_type": "code",
   "execution_count": 1,
   "id": "xTLf586uPk17",
   "metadata": {
    "colab": {
     "base_uri": "https://localhost:8080/"
    },
    "executionInfo": {
     "elapsed": 1326,
     "status": "ok",
     "timestamp": 1663795706580,
     "user": {
      "displayName": "Maryam Pishgar",
      "userId": "00388063982081153488"
     },
     "user_tz": 420
    },
    "id": "xTLf586uPk17",
    "outputId": "08b9c2da-56ee-4520-a9f2-b931a35583e5"
   },
   "outputs": [],
   "source": [
    "#from google.colab import drive\n",
    "#drive.mount('/content/drive')"
   ]
  },
  {
   "cell_type": "code",
   "execution_count": 2,
   "id": "ZKggIx4rPsv7",
   "metadata": {
    "colab": {
     "base_uri": "https://localhost:8080/"
    },
    "executionInfo": {
     "elapsed": 3549,
     "status": "ok",
     "timestamp": 1663795714311,
     "user": {
      "displayName": "Maryam Pishgar",
      "userId": "00388063982081153488"
     },
     "user_tz": 420
    },
    "id": "ZKggIx4rPsv7",
    "outputId": "150ec636-0447-44ca-fa5f-b8a10975bffe"
   },
   "outputs": [
    {
     "name": "stdout",
     "output_type": "stream",
     "text": [
      "Collecting pm4py==2.7.5.2\n",
      "  Using cached pm4py-2.7.5.2-py3-none-any.whl (1.8 MB)\n",
      "Requirement already satisfied: tqdm in c:\\users\\longvu\\appdata\\local\\programs\\python\\python310\\lib\\site-packages (from pm4py==2.7.5.2) (4.64.1)\n",
      "Requirement already satisfied: lxml in c:\\users\\longvu\\appdata\\local\\programs\\python\\python310\\lib\\site-packages (from pm4py==2.7.5.2) (4.9.3)\n",
      "Requirement already satisfied: networkx in c:\\users\\longvu\\appdata\\local\\programs\\python\\python310\\lib\\site-packages (from pm4py==2.7.5.2) (3.1)\n",
      "Requirement already satisfied: deprecation in c:\\users\\longvu\\appdata\\local\\programs\\python\\python310\\lib\\site-packages (from pm4py==2.7.5.2) (2.1.0)\n",
      "Requirement already satisfied: cvxopt in c:\\users\\longvu\\appdata\\local\\programs\\python\\python310\\lib\\site-packages (from pm4py==2.7.5.2) (1.3.2)\n",
      "Requirement already satisfied: pydotplus in c:\\users\\longvu\\appdata\\local\\programs\\python\\python310\\lib\\site-packages (from pm4py==2.7.5.2) (2.0.2)\n",
      "Requirement already satisfied: graphviz in c:\\users\\longvu\\appdata\\local\\programs\\python\\python310\\lib\\site-packages (from pm4py==2.7.5.2) (0.20.1)\n",
      "Requirement already satisfied: scipy in c:\\users\\longvu\\appdata\\local\\programs\\python\\python310\\lib\\site-packages (from pm4py==2.7.5.2) (1.10.0)\n",
      "Requirement already satisfied: numpy in c:\\users\\longvu\\appdata\\roaming\\python\\python310\\site-packages (from pm4py==2.7.5.2) (1.22.3)\n",
      "Requirement already satisfied: pandas in c:\\users\\longvu\\appdata\\local\\programs\\python\\python310\\lib\\site-packages (from pm4py==2.7.5.2) (1.5.2)\n",
      "Requirement already satisfied: matplotlib in c:\\users\\longvu\\appdata\\roaming\\python\\python310\\site-packages (from pm4py==2.7.5.2) (3.5.1)\n",
      "Requirement already satisfied: intervaltree in c:\\users\\longvu\\appdata\\local\\programs\\python\\python310\\lib\\site-packages (from pm4py==2.7.5.2) (3.1.0)\n",
      "Requirement already satisfied: stringdist in c:\\users\\longvu\\appdata\\local\\programs\\python\\python310\\lib\\site-packages (from pm4py==2.7.5.2) (1.0.9)\n",
      "Requirement already satisfied: pytz in c:\\users\\longvu\\appdata\\local\\programs\\python\\python310\\lib\\site-packages (from pm4py==2.7.5.2) (2022.6)\n",
      "Requirement already satisfied: packaging in c:\\users\\longvu\\appdata\\roaming\\python\\python310\\site-packages (from deprecation->pm4py==2.7.5.2) (21.3)\n",
      "Requirement already satisfied: sortedcontainers<3.0,>=2.0 in c:\\users\\longvu\\appdata\\local\\programs\\python\\python310\\lib\\site-packages (from intervaltree->pm4py==2.7.5.2) (2.4.0)\n",
      "Requirement already satisfied: pyparsing>=2.2.1 in c:\\users\\longvu\\appdata\\roaming\\python\\python310\\site-packages (from matplotlib->pm4py==2.7.5.2) (3.0.8)\n",
      "Requirement already satisfied: fonttools>=4.22.0 in c:\\users\\longvu\\appdata\\roaming\\python\\python310\\site-packages (from matplotlib->pm4py==2.7.5.2) (4.32.0)\n",
      "Requirement already satisfied: kiwisolver>=1.0.1 in c:\\users\\longvu\\appdata\\roaming\\python\\python310\\site-packages (from matplotlib->pm4py==2.7.5.2) (1.4.2)\n",
      "Requirement already satisfied: python-dateutil>=2.7 in c:\\users\\longvu\\appdata\\roaming\\python\\python310\\site-packages (from matplotlib->pm4py==2.7.5.2) (2.8.2)\n",
      "Requirement already satisfied: cycler>=0.10 in c:\\users\\longvu\\appdata\\roaming\\python\\python310\\site-packages (from matplotlib->pm4py==2.7.5.2) (0.11.0)\n",
      "Requirement already satisfied: pillow>=6.2.0 in c:\\users\\longvu\\appdata\\roaming\\python\\python310\\site-packages (from matplotlib->pm4py==2.7.5.2) (9.1.0)\n",
      "Requirement already satisfied: colorama in c:\\users\\longvu\\appdata\\local\\programs\\python\\python310\\lib\\site-packages (from tqdm->pm4py==2.7.5.2) (0.4.6)\n",
      "Requirement already satisfied: six>=1.5 in c:\\users\\longvu\\appdata\\roaming\\python\\python310\\site-packages (from python-dateutil>=2.7->matplotlib->pm4py==2.7.5.2) (1.16.0)\n",
      "Installing collected packages: pm4py\n",
      "  Attempting uninstall: pm4py\n",
      "    Found existing installation: pm4py 2.1.4.1\n",
      "    Uninstalling pm4py-2.1.4.1:\n",
      "      Successfully uninstalled pm4py-2.1.4.1\n",
      "Successfully installed pm4py-2.7.5.2\n"
     ]
    },
    {
     "name": "stderr",
     "output_type": "stream",
     "text": [
      "\n",
      "[notice] A new release of pip available: 22.3.1 -> 23.2.1\n",
      "[notice] To update, run: python.exe -m pip install --upgrade pip\n"
     ]
    },
    {
     "name": "stdout",
     "output_type": "stream",
     "text": [
      "Requirement already satisfied: tensorflow in c:\\users\\longvu\\appdata\\local\\programs\\python\\python310\\lib\\site-packages (2.13.0)\n",
      "Requirement already satisfied: tensorflow-intel==2.13.0 in c:\\users\\longvu\\appdata\\local\\programs\\python\\python310\\lib\\site-packages (from tensorflow) (2.13.0)\n",
      "Requirement already satisfied: packaging in c:\\users\\longvu\\appdata\\roaming\\python\\python310\\site-packages (from tensorflow-intel==2.13.0->tensorflow) (21.3)\n",
      "Requirement already satisfied: tensorflow-io-gcs-filesystem>=0.23.1 in c:\\users\\longvu\\appdata\\local\\programs\\python\\python310\\lib\\site-packages (from tensorflow-intel==2.13.0->tensorflow) (0.31.0)\n",
      "Requirement already satisfied: termcolor>=1.1.0 in c:\\users\\longvu\\appdata\\local\\programs\\python\\python310\\lib\\site-packages (from tensorflow-intel==2.13.0->tensorflow) (2.3.0)\n",
      "Requirement already satisfied: flatbuffers>=23.1.21 in c:\\users\\longvu\\appdata\\local\\programs\\python\\python310\\lib\\site-packages (from tensorflow-intel==2.13.0->tensorflow) (23.5.26)\n",
      "Requirement already satisfied: numpy<=1.24.3,>=1.22 in c:\\users\\longvu\\appdata\\roaming\\python\\python310\\site-packages (from tensorflow-intel==2.13.0->tensorflow) (1.22.3)\n",
      "Requirement already satisfied: setuptools in c:\\users\\longvu\\appdata\\local\\programs\\python\\python310\\lib\\site-packages (from tensorflow-intel==2.13.0->tensorflow) (58.1.0)\n",
      "Requirement already satisfied: absl-py>=1.0.0 in c:\\users\\longvu\\appdata\\local\\programs\\python\\python310\\lib\\site-packages (from tensorflow-intel==2.13.0->tensorflow) (1.4.0)\n",
      "Requirement already satisfied: protobuf!=4.21.0,!=4.21.1,!=4.21.2,!=4.21.3,!=4.21.4,!=4.21.5,<5.0.0dev,>=3.20.3 in c:\\users\\longvu\\appdata\\local\\programs\\python\\python310\\lib\\site-packages (from tensorflow-intel==2.13.0->tensorflow) (4.24.3)\n",
      "Requirement already satisfied: h5py>=2.9.0 in c:\\users\\longvu\\appdata\\local\\programs\\python\\python310\\lib\\site-packages (from tensorflow-intel==2.13.0->tensorflow) (3.9.0)\n",
      "Requirement already satisfied: typing-extensions<4.6.0,>=3.6.6 in c:\\users\\longvu\\appdata\\local\\programs\\python\\python310\\lib\\site-packages (from tensorflow-intel==2.13.0->tensorflow) (4.5.0)\n",
      "Requirement already satisfied: google-pasta>=0.1.1 in c:\\users\\longvu\\appdata\\local\\programs\\python\\python310\\lib\\site-packages (from tensorflow-intel==2.13.0->tensorflow) (0.2.0)\n",
      "Requirement already satisfied: gast<=0.4.0,>=0.2.1 in c:\\users\\longvu\\appdata\\local\\programs\\python\\python310\\lib\\site-packages (from tensorflow-intel==2.13.0->tensorflow) (0.4.0)\n",
      "Requirement already satisfied: tensorboard<2.14,>=2.13 in c:\\users\\longvu\\appdata\\local\\programs\\python\\python310\\lib\\site-packages (from tensorflow-intel==2.13.0->tensorflow) (2.13.0)\n",
      "Requirement already satisfied: keras<2.14,>=2.13.1 in c:\\users\\longvu\\appdata\\local\\programs\\python\\python310\\lib\\site-packages (from tensorflow-intel==2.13.0->tensorflow) (2.13.1)\n",
      "Requirement already satisfied: libclang>=13.0.0 in c:\\users\\longvu\\appdata\\local\\programs\\python\\python310\\lib\\site-packages (from tensorflow-intel==2.13.0->tensorflow) (16.0.6)\n",
      "Requirement already satisfied: grpcio<2.0,>=1.24.3 in c:\\users\\longvu\\appdata\\local\\programs\\python\\python310\\lib\\site-packages (from tensorflow-intel==2.13.0->tensorflow) (1.58.0)\n",
      "Requirement already satisfied: opt-einsum>=2.3.2 in c:\\users\\longvu\\appdata\\local\\programs\\python\\python310\\lib\\site-packages (from tensorflow-intel==2.13.0->tensorflow) (3.3.0)\n",
      "Requirement already satisfied: tensorflow-estimator<2.14,>=2.13.0 in c:\\users\\longvu\\appdata\\local\\programs\\python\\python310\\lib\\site-packages (from tensorflow-intel==2.13.0->tensorflow) (2.13.0)\n",
      "Requirement already satisfied: six>=1.12.0 in c:\\users\\longvu\\appdata\\roaming\\python\\python310\\site-packages (from tensorflow-intel==2.13.0->tensorflow) (1.16.0)\n",
      "Requirement already satisfied: wrapt>=1.11.0 in c:\\users\\longvu\\appdata\\local\\programs\\python\\python310\\lib\\site-packages (from tensorflow-intel==2.13.0->tensorflow) (1.15.0)\n",
      "Requirement already satisfied: astunparse>=1.6.0 in c:\\users\\longvu\\appdata\\local\\programs\\python\\python310\\lib\\site-packages (from tensorflow-intel==2.13.0->tensorflow) (1.6.3)\n",
      "Requirement already satisfied: wheel<1.0,>=0.23.0 in c:\\users\\longvu\\appdata\\local\\programs\\python\\python310\\lib\\site-packages (from astunparse>=1.6.0->tensorflow-intel==2.13.0->tensorflow) (0.41.2)\n",
      "Requirement already satisfied: google-auth-oauthlib<1.1,>=0.5 in c:\\users\\longvu\\appdata\\local\\programs\\python\\python310\\lib\\site-packages (from tensorboard<2.14,>=2.13->tensorflow-intel==2.13.0->tensorflow) (1.0.0)\n",
      "Requirement already satisfied: markdown>=2.6.8 in c:\\users\\longvu\\appdata\\local\\programs\\python\\python310\\lib\\site-packages (from tensorboard<2.14,>=2.13->tensorflow-intel==2.13.0->tensorflow) (3.4.4)\n",
      "Requirement already satisfied: werkzeug>=1.0.1 in c:\\users\\longvu\\appdata\\local\\programs\\python\\python310\\lib\\site-packages (from tensorboard<2.14,>=2.13->tensorflow-intel==2.13.0->tensorflow) (2.3.7)\n",
      "Requirement already satisfied: requests<3,>=2.21.0 in c:\\users\\longvu\\appdata\\local\\programs\\python\\python310\\lib\\site-packages (from tensorboard<2.14,>=2.13->tensorflow-intel==2.13.0->tensorflow) (2.28.1)\n",
      "Requirement already satisfied: google-auth<3,>=1.6.3 in c:\\users\\longvu\\appdata\\local\\programs\\python\\python310\\lib\\site-packages (from tensorboard<2.14,>=2.13->tensorflow-intel==2.13.0->tensorflow) (2.22.0)\n",
      "Requirement already satisfied: tensorboard-data-server<0.8.0,>=0.7.0 in c:\\users\\longvu\\appdata\\local\\programs\\python\\python310\\lib\\site-packages (from tensorboard<2.14,>=2.13->tensorflow-intel==2.13.0->tensorflow) (0.7.1)\n",
      "Requirement already satisfied: pyparsing!=3.0.5,>=2.0.2 in c:\\users\\longvu\\appdata\\roaming\\python\\python310\\site-packages (from packaging->tensorflow-intel==2.13.0->tensorflow) (3.0.8)\n",
      "Requirement already satisfied: cachetools<6.0,>=2.0.0 in c:\\users\\longvu\\appdata\\local\\programs\\python\\python310\\lib\\site-packages (from google-auth<3,>=1.6.3->tensorboard<2.14,>=2.13->tensorflow-intel==2.13.0->tensorflow) (5.3.1)\n",
      "Requirement already satisfied: pyasn1-modules>=0.2.1 in c:\\users\\longvu\\appdata\\local\\programs\\python\\python310\\lib\\site-packages (from google-auth<3,>=1.6.3->tensorboard<2.14,>=2.13->tensorflow-intel==2.13.0->tensorflow) (0.3.0)\n",
      "Requirement already satisfied: rsa<5,>=3.1.4 in c:\\users\\longvu\\appdata\\local\\programs\\python\\python310\\lib\\site-packages (from google-auth<3,>=1.6.3->tensorboard<2.14,>=2.13->tensorflow-intel==2.13.0->tensorflow) (4.9)\n",
      "Requirement already satisfied: urllib3<2.0 in c:\\users\\longvu\\appdata\\roaming\\python\\python310\\site-packages (from google-auth<3,>=1.6.3->tensorboard<2.14,>=2.13->tensorflow-intel==2.13.0->tensorflow) (1.26.9)\n",
      "Requirement already satisfied: requests-oauthlib>=0.7.0 in c:\\users\\longvu\\appdata\\local\\programs\\python\\python310\\lib\\site-packages (from google-auth-oauthlib<1.1,>=0.5->tensorboard<2.14,>=2.13->tensorflow-intel==2.13.0->tensorflow) (1.3.1)\n",
      "Requirement already satisfied: charset-normalizer<3,>=2 in c:\\users\\longvu\\appdata\\roaming\\python\\python310\\site-packages (from requests<3,>=2.21.0->tensorboard<2.14,>=2.13->tensorflow-intel==2.13.0->tensorflow) (2.0.12)\n",
      "Requirement already satisfied: idna<4,>=2.5 in c:\\users\\longvu\\appdata\\roaming\\python\\python310\\site-packages (from requests<3,>=2.21.0->tensorboard<2.14,>=2.13->tensorflow-intel==2.13.0->tensorflow) (3.3)\n",
      "Requirement already satisfied: certifi>=2017.4.17 in c:\\users\\longvu\\appdata\\roaming\\python\\python310\\site-packages (from requests<3,>=2.21.0->tensorboard<2.14,>=2.13->tensorflow-intel==2.13.0->tensorflow) (2021.10.8)\n",
      "Requirement already satisfied: MarkupSafe>=2.1.1 in c:\\users\\longvu\\appdata\\local\\programs\\python\\python310\\lib\\site-packages (from werkzeug>=1.0.1->tensorboard<2.14,>=2.13->tensorflow-intel==2.13.0->tensorflow) (2.1.1)\n",
      "Requirement already satisfied: pyasn1<0.6.0,>=0.4.6 in c:\\users\\longvu\\appdata\\local\\programs\\python\\python310\\lib\\site-packages (from pyasn1-modules>=0.2.1->google-auth<3,>=1.6.3->tensorboard<2.14,>=2.13->tensorflow-intel==2.13.0->tensorflow) (0.5.0)\n",
      "Requirement already satisfied: oauthlib>=3.0.0 in c:\\users\\longvu\\appdata\\local\\programs\\python\\python310\\lib\\site-packages (from requests-oauthlib>=0.7.0->google-auth-oauthlib<1.1,>=0.5->tensorboard<2.14,>=2.13->tensorflow-intel==2.13.0->tensorflow) (3.2.2)\n"
     ]
    },
    {
     "name": "stderr",
     "output_type": "stream",
     "text": [
      "\n",
      "[notice] A new release of pip available: 22.3.1 -> 23.2.1\n",
      "[notice] To update, run: python.exe -m pip install --upgrade pip\n"
     ]
    },
    {
     "name": "stdout",
     "output_type": "stream",
     "text": [
      "Requirement already satisfied: pydot in c:\\users\\longvu\\appdata\\local\\programs\\python\\python310\\lib\\site-packages (1.4.2)\n",
      "Requirement already satisfied: pyparsing>=2.1.4 in c:\\users\\longvu\\appdata\\roaming\\python\\python310\\site-packages (from pydot) (3.0.8)\n"
     ]
    },
    {
     "name": "stderr",
     "output_type": "stream",
     "text": [
      "\n",
      "[notice] A new release of pip available: 22.3.1 -> 23.2.1\n",
      "[notice] To update, run: python.exe -m pip install --upgrade pip\n"
     ]
    },
    {
     "name": "stdout",
     "output_type": "stream",
     "text": [
      "Requirement already satisfied: graphviz in c:\\users\\longvu\\appdata\\local\\programs\\python\\python310\\lib\\site-packages (0.20.1)\n"
     ]
    },
    {
     "name": "stderr",
     "output_type": "stream",
     "text": [
      "\n",
      "[notice] A new release of pip available: 22.3.1 -> 23.2.1\n",
      "[notice] To update, run: python.exe -m pip install --upgrade pip\n"
     ]
    }
   ],
   "source": [
    "!pip install pm4py==2.7.5.2\n",
    "!pip install tensorflow\n",
    "!pip install pydot\n",
    "!pip install graphviz"
   ]
  },
  {
   "cell_type": "code",
   "execution_count": 3,
   "id": "WbKkxjqfQPqP",
   "metadata": {
    "executionInfo": {
     "elapsed": 136,
     "status": "ok",
     "timestamp": 1663795720504,
     "user": {
      "displayName": "Maryam Pishgar",
      "userId": "00388063982081153488"
     },
     "user_tz": 420
    },
    "id": "WbKkxjqfQPqP"
   },
   "outputs": [],
   "source": [
    "import os"
   ]
  },
  {
   "cell_type": "code",
   "execution_count": 4,
   "id": "BJsyPD7jQSn1",
   "metadata": {
    "executionInfo": {
     "elapsed": 206,
     "status": "ok",
     "timestamp": 1663795721851,
     "user": {
      "displayName": "Maryam Pishgar",
      "userId": "00388063982081153488"
     },
     "user_tz": 420
    },
    "id": "BJsyPD7jQSn1"
   },
   "outputs": [],
   "source": [
    "#Changing the directory\n",
    "#os.chdir('/content/drive/My Drive/Process mining course/Part 2 Project')"
   ]
  },
  {
   "cell_type": "code",
   "execution_count": 5,
   "id": "b7a69ade",
   "metadata": {
    "executionInfo": {
     "elapsed": 217,
     "status": "ok",
     "timestamp": 1663795725008,
     "user": {
      "displayName": "Maryam Pishgar",
      "userId": "00388063982081153488"
     },
     "user_tz": 420
    },
    "id": "b7a69ade"
   },
   "outputs": [
    {
     "name": "stdout",
     "output_type": "stream",
     "text": [
      "WARNING:tensorflow:From C:\\Users\\LongVu\\AppData\\Local\\Programs\\Python\\Python310\\lib\\site-packages\\tensorflow\\python\\compat\\v2_compat.py:107: disable_resource_variables (from tensorflow.python.ops.variable_scope) is deprecated and will be removed in a future version.\n",
      "Instructions for updating:\n",
      "non-resource variables are not supported in the long term\n"
     ]
    }
   ],
   "source": [
    "import matplotlib.pyplot as plt\n",
    "import numpy as np\n",
    "import pandas as pd\n",
    "import json\n",
    "import sklearn\n",
    "import pm4py\n",
    "import tensorflow\n",
    "\n",
    "\n",
    "from pydream.predictive.nap.NAP import NAP, multiclass_roc_auc_score\n",
    "import pickle\n",
    "from sklearn.metrics import confusion_matrix, accuracy_score, precision_recall_fscore_support,precision_score, recall_score, roc_auc_score\n",
    "from sklearn.preprocessing import MinMaxScaler\n",
    "\n",
    "from pydream.EnhancedPN import EnhancedPN\n",
    "from pm4py.objects.petri_net.importer import importer as pnml_importer\n",
    "from backend.stat.ci_auc import calculate_auc_ci"
   ]
  },
  {
   "cell_type": "code",
   "execution_count": 6,
   "id": "0f0a3dc4",
   "metadata": {
    "executionInfo": {
     "elapsed": 280,
     "status": "ok",
     "timestamp": 1663795737652,
     "user": {
      "displayName": "Maryam Pishgar",
      "userId": "00388063982081153488"
     },
     "user_tz": 420
    },
    "id": "0f0a3dc4"
   },
   "outputs": [],
   "source": [
    "train_json = \"tss_heart_log_train0.json\"\n",
    "valid_json =\"tss_heart_log_val0.json\"\n",
    "test_json = \"tss_heart_log_test0.json\""
   ]
  },
  {
   "cell_type": "code",
   "execution_count": null,
   "id": "0470f974",
   "metadata": {
    "colab": {
     "base_uri": "https://localhost:8080/"
    },
    "executionInfo": {
     "elapsed": 32781,
     "status": "ok",
     "timestamp": 1663795773068,
     "user": {
      "displayName": "Maryam Pishgar",
      "userId": "00388063982081153488"
     },
     "user_tz": 420
    },
    "id": "0470f974",
    "outputId": "2ed4bdc9-d387-4fd6-e73a-8c753788691f"
   },
   "outputs": [
    {
     "name": "stdout",
     "output_type": "stream",
     "text": [
      "Xtrain shape: (8403, 1920)\n",
      "X2train shape: (8403, 3)\n",
      "Severity train shape: (8403, 58)\n",
      "X2test shape: (1531, 3)\n",
      "Xtest shape: (1531, 1920)\n",
      "Severity test shape: (1531, 58)\n",
      "Ytrain shape: (8403, 2)\n",
      "Ytest shape: (1531, 2)\n",
      "WARNING:tensorflow:From C:\\Users\\LongVu\\AppData\\Local\\Programs\\Python\\Python310\\lib\\site-packages\\keras\\src\\layers\\normalization\\batch_normalization.py:883: _colocate_with (from tensorflow.python.framework.ops) is deprecated and will be removed in a future version.\n",
      "Instructions for updating:\n",
      "Colocations handled automatically by placer.\n"
     ]
    },
    {
     "name": "stderr",
     "output_type": "stream",
     "text": [
      "C:\\Users\\LongVu\\AppData\\Local\\Programs\\Python\\Python310\\lib\\site-packages\\sklearn\\preprocessing\\_encoders.py:972: FutureWarning: `sparse` was renamed to `sparse_output` in version 1.2 and will be removed in 1.4. `sparse_output` is ignored unless you leave `sparse` to its default value.\n",
      "  warnings.warn(\n"
     ]
    },
    {
     "name": "stdout",
     "output_type": "stream",
     "text": [
      "You must install pydot (`pip install pydot`) and install graphviz (see instructions at https://graphviz.gitlab.io/download/) for plot_model to work.\n",
      "Class weights :  <module 'sklearn.utils.class_weight' from 'C:\\\\Users\\\\LongVu\\\\AppData\\\\Local\\\\Programs\\\\Python\\\\Python310\\\\lib\\\\site-packages\\\\sklearn\\\\utils\\\\class_weight.py'>\n",
      "Train on 8403 samples, validate on 1531 samples\n",
      "Epoch 1/2\n",
      "1110/8403 [==>...........................] - ETA: 6s - loss: 1.2196 - acc: 0.2928"
     ]
    }
   ],
   "source": [
    "train_algo = NAP(tss_train_file=train_json, tss_test_file=valid_json, options={\"n_epochs\" : 2})\n",
    "train_algo.train(checkpoint_path=\"chk_points\", name=\"HF_model\", save_results=True)"
   ]
  },
  {
   "cell_type": "code",
   "execution_count": null,
   "id": "83296661",
   "metadata": {
    "executionInfo": {
     "elapsed": 2582,
     "status": "ok",
     "timestamp": 1663795780121,
     "user": {
      "displayName": "Maryam Pishgar",
      "userId": "00388063982081153488"
     },
     "user_tz": 420
    },
    "id": "83296661"
   },
   "outputs": [],
   "source": [
    "algo = NAP()\n",
    "algo.loadModel(path=\"chk_points\", name=\"HF_model\")\n",
    "\n",
    "X_test, X2_test, severity_test, Y_test = algo.loadData(test_json)"
   ]
  },
  {
   "cell_type": "code",
   "execution_count": null,
   "id": "2c537026",
   "metadata": {
    "colab": {
     "base_uri": "https://localhost:8080/"
    },
    "executionInfo": {
     "elapsed": 132,
     "status": "ok",
     "timestamp": 1663795398532,
     "user": {
      "displayName": "Maryam Pishgar",
      "userId": "00388063982081153488"
     },
     "user_tz": 420
    },
    "id": "2c537026",
    "outputId": "94ef835f-e698-4bd3-c6d3-4ea8364e3ec5"
   },
   "outputs": [],
   "source": [
    "stdScaler = MinMaxScaler()\n",
    "stdScaler.fit(X_test)\n",
    "X_test = stdScaler.transform(X_test)\n",
    "stdScaler.fit(X2_test)\n",
    "X2_test = stdScaler.transform(X2_test)\n",
    "stdScaler.fit(severity_test)\n",
    "severity_test = stdScaler.transform(severity_test)\n",
    "\n",
    "Y_test_int = np.array([int(i) for i in Y_test])\n",
    "y_prob = algo.model.predict([X_test,X2_test,severity_test])\n",
    "y_pred = np.argmax(y_prob, axis=1)\n",
    "\n",
    "test_acc = accuracy_score(Y_test_int, y_pred, normalize=True)"
   ]
  },
  {
   "cell_type": "code",
   "execution_count": null,
   "id": "e294b3e5",
   "metadata": {
    "colab": {
     "base_uri": "https://localhost:8080/"
    },
    "executionInfo": {
     "elapsed": 250,
     "status": "ok",
     "timestamp": 1663795784164,
     "user": {
      "displayName": "Maryam Pishgar",
      "userId": "00388063982081153488"
     },
     "user_tz": 420
    },
    "id": "e294b3e5",
    "outputId": "c7a26741-2366-42d1-944a-a2ff4f2a708e"
   },
   "outputs": [],
   "source": [
    "y_true =Y_test_int\n",
    "y_probscore = []\n",
    "list_of_lists = []\n",
    "for x in y_prob:\n",
    "    list_of_lists.append(list(x))\n",
    "    y_probscore.append(list(x)[1])\n",
    "\n",
    "\n",
    "y_score = np.array(y_probscore)\n",
    "y_pred = np.around(y_pred)\n",
    "y_true = np.array(y_true)\n",
    "auc, auc_cov, ci = calculate_auc_ci(y_true,y_score,y_pred, alpha=0.95)\n",
    "print(\"AUC Score: \",auc)\n",
    "print(\"AUC_cov: \", auc_cov)\n",
    "print(\"confidence interval: \",ci)"
   ]
  },
  {
   "cell_type": "code",
   "execution_count": null,
   "id": "8be06e53",
   "metadata": {},
   "outputs": [],
   "source": []
  }
 ],
 "metadata": {
  "colab": {
   "collapsed_sections": [],
   "provenance": []
  },
  "kernelspec": {
   "display_name": "Python 3 (ipykernel)",
   "language": "python",
   "name": "python3"
  },
  "language_info": {
   "codemirror_mode": {
    "name": "ipython",
    "version": 3
   },
   "file_extension": ".py",
   "mimetype": "text/x-python",
   "name": "python",
   "nbconvert_exporter": "python",
   "pygments_lexer": "ipython3",
   "version": "3.10.2"
  }
 },
 "nbformat": 4,
 "nbformat_minor": 5
}
